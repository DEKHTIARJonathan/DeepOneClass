{
 "cells": [
  {
   "cell_type": "code",
   "execution_count": 1,
   "metadata": {},
   "outputs": [
    {
     "name": "stderr",
     "output_type": "stream",
     "text": [
      "/Users/Sylvain/.pyenv/versions/3.6.4/lib/python3.6/importlib/_bootstrap.py:219: RuntimeWarning: compiletime version 3.5 of module 'tensorflow.python.framework.fast_tensor_util' does not match runtime version 3.6\n",
      "  return f(*args, **kwds)\n"
     ]
    }
   ],
   "source": [
    "import tensorflow as tf\n",
    "import sys\n",
    "import numpy as np\n",
    "\n",
    "np.random.seed(1)\n",
    "DIMS = 2\n",
    "INPUTS_NBR = 50"
   ]
  },
  {
   "cell_type": "code",
   "execution_count": 2,
   "metadata": {},
   "outputs": [],
   "source": [
    "R = tf.Variable(tf.random_normal([], mean=10, dtype=tf.float64), dtype=tf.float64, name=\"Radius\")\n",
    "a = tf.Variable(tf.random_normal([DIMS], mean=5, dtype=tf.float64), dtype=tf.float64, name=\"Center\")\n",
    "\n",
    "loss = tf.cast(tf.reduce_sum(tf.square(R)), tf.float64)\n",
    "inputs = np.random.normal(3*np.ones(DIMS), scale=1, size=(INPUTS_NBR, DIMS))"
   ]
  },
  {
   "cell_type": "code",
   "execution_count": 3,
   "metadata": {},
   "outputs": [],
   "source": [
    "constraints = [tf.cast(tf.square(R)-tf.square(tf.norm(inputs[i] - a)), tf.float64) for i in range(inputs.shape[0])]"
   ]
  },
  {
   "cell_type": "code",
   "execution_count": 4,
   "metadata": {
    "scrolled": false
   },
   "outputs": [
    {
     "name": "stdout",
     "output_type": "stream",
     "text": [
      "Avant\n",
      "10.533780418765401 [5.5437378  6.97411984]\n",
      "INFO:tensorflow:Optimization terminated with:\n",
      "  Message: Optimization terminated successfully.\n",
      "  Objective function value: 4.957682\n",
      "  Number of iterations: 8\n",
      "  Number of functions evaluations: 8\n",
      "Après\n",
      "2.2265853118958874 [3.52816185 2.89935827]\n"
     ]
    }
   ],
   "source": [
    "optimizer = tf.contrib.opt.ScipyOptimizerInterface(loss, \n",
    "    method=\"SLSQP\",\n",
    "    inequalities=constraints,\n",
    "    options={\n",
    "     'maxiter': 100\n",
    "})\n",
    "\n",
    "with tf.Session() as sess:\n",
    "    \n",
    "    sess.run(tf.global_variables_initializer())\n",
    "    \n",
    "    print(\"Avant\")\n",
    "    R1, a1 = sess.run([R, a])\n",
    "    print(R1, a1)\n",
    "    \n",
    "    train = optimizer.minimize(sess)\n",
    "    \n",
    "    print(\"Après\")\n",
    "    R1, a1 = sess.run([R, a])\n",
    "    print(R1, a1)"
   ]
  },
  {
   "cell_type": "code",
   "execution_count": 5,
   "metadata": {},
   "outputs": [
    {
     "data": {
      "image/png": "[encoded data removed]",
      "text/plain": [
       "<Figure size 432x288 with 1 Axes>"
      ]
     },
     "metadata": {},
     "output_type": "display_data"
    }
   ],
   "source": [
    "import matplotlib.pyplot as plt\n",
    "%matplotlib inline\n",
    "\n",
    "xx, yy = np.meshgrid(np.linspace(-5, 5, 500), np.linspace(-5, 5, 500))\n",
    "\n",
    "fig = plt.gcf()\n",
    "ax = fig.gca()\n",
    "\n",
    "s1 = plt.scatter(inputs[:, 0], inputs[:, 1], c='red', edgecolors='k')\n",
    "s2 = plt.scatter(a1[0], a1[1], c='blue', s=100, edgecolors='w')\n",
    "c = plt.Circle(tuple(a1), R1, fill=False)\n",
    "ax.add_patch(c)\n",
    "\n",
    "plt.axis('equal')\n",
    "\n",
    "plt.legend([s1, s2],\n",
    "           [\"inputs\", \"center\"],\n",
    "           loc=\"upper left\")\n",
    "plt.show()"
   ]
  },
  {
   "cell_type": "code",
   "execution_count": null,
   "metadata": {},
   "outputs": [],
   "source": []
  }
 ],
 "metadata": {
  "kernelspec": {
   "display_name": "Python 3",
   "language": "python",
   "name": "python3"
  },
  "language_info": {
   "codemirror_mode": {
    "name": "ipython",
    "version": 3
   },
   "file_extension": ".py",
   "mimetype": "text/x-python",
   "name": "python",
   "nbconvert_exporter": "python",
   "pygments_lexer": "ipython3",
   "version": "3.6.4"
  },
  "toc": {
   "colors": {
    "hover_highlight": "#DAA520",
    "navigate_num": "#000000",
    "navigate_text": "#333333",
    "running_highlight": "#FF0000",
    "selected_highlight": "#FFD700",
    "sidebar_border": "#EEEEEE",
    "wrapper_background": "#FFFFFF"
   },
   "moveMenuLeft": true,
   "nav_menu": {
    "height": "12px",
    "width": "252px"
   },
   "navigate_menu": true,
   "number_sections": true,
   "sideBar": true,
   "threshold": 4,
   "toc_cell": false,
   "toc_section_display": "block",
   "toc_window_display": false,
   "widenNotebook": false
  }
 },
 "nbformat": 4,
 "nbformat_minor": 2
}
