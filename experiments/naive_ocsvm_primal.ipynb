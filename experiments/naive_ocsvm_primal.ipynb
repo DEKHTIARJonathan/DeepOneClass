{
 "cells": [
  {
   "cell_type": "markdown",
   "metadata": {},
   "source": [
    "# Naive implementation of OCSVM (Schölkopf) in Tensorflow\n",
    "[Original paper by Schölkopf](https://papers.nips.cc/paper/1723-support-vector-method-for-novelty-detection.pdf)\n",
    "\n",
    "Here is our implementation with linear kernel\n",
    "\n",
    "### $$ \\frac{1}{2} \\Vert{w}\\Vert^{2} - \\rho + C \\sum_{i=1}^N \\xi_i $$\n",
    "subject to constraint:\n",
    "\n",
    "### $$ w^{T} x_i \\geq \\rho - \\xi_i$$\n",
    "\n",
    "- $w$ and $\\rho$ are the parameters who define the hyperplan separating data from the origin\n",
    "- $\\xi_i$ are slack variables that are zero if $x_i$ is in the sphere, and represent its distance to the sphere otherwise\n",
    "- $C$ controls the hardness of the margin"
   ]
  },
  {
   "cell_type": "code",
   "execution_count": 27,
   "metadata": {},
   "outputs": [],
   "source": [
    "import sys\n",
    "import tensorflow as tf\n",
    "import numpy as np\n",
    "np.random.seed(1)"
   ]
  },
  {
   "cell_type": "code",
   "execution_count": 51,
   "metadata": {},
   "outputs": [],
   "source": [
    "DIMS = 2\n",
    "INPUTS_NBR = 50\n",
    "C = 1e-8\n",
    "\n",
    "# Variables to train\n",
    "ro = tf.Variable(tf.random_normal([], mean=0.1), dtype=tf.float32, name=\"Radius\")\n",
    "w = tf.Variable(tf.random_normal([DIMS], mean=0.1), dtype=tf.float32, name=\"Center\")\n",
    "\n",
    "# Inputs and constants\n",
    "X = tf.placeholder(tf.float32, shape=(None, DIMS), name=\"X\")\n",
    "C = tf.constant(3, dtype=tf.float32)"
   ]
  },
  {
   "cell_type": "markdown",
   "metadata": {},
   "source": [
    "# Define the loss"
   ]
  },
  {
   "cell_type": "code",
   "execution_count": 52,
   "metadata": {},
   "outputs": [],
   "source": [
    "constraint = tf.matmul(X, tf.expand_dims(w, -1)) - ro\n",
    "loss = 0.5 * tf.square(tf.norm(w)) - ro - C * tf.reduce_sum(tf.minimum(constraint, 0.0))\n",
    "\n",
    "# the loss is summed over all the batch\n",
    "loss = tf.reduce_sum(loss)"
   ]
  },
  {
   "cell_type": "markdown",
   "metadata": {},
   "source": [
    "# Define the optimizer and train"
   ]
  },
  {
   "cell_type": "code",
   "execution_count": 53,
   "metadata": {
    "scrolled": false
   },
   "outputs": [
    {
     "name": "stdout",
     "output_type": "stream",
     "text": [
      "100.0 %, Loss: -1.0204, ro:  2.0975, w1:[1.2728952  0.67708284]]]"
     ]
    }
   ],
   "source": [
    "optimizer = tf.train.AdamOptimizer(0.1)\n",
    "train = optimizer.minimize(loss)\n",
    "\n",
    "EPOCHS = 5000\n",
    "\n",
    "inputs = np.random.normal(3*np.ones(DIMS), scale=1, size=(INPUTS_NBR, DIMS))\n",
    "\n",
    "with tf.Session() as sess:\n",
    "    sess.run(tf.global_variables_initializer())\n",
    "    for e in range(EPOCHS):\n",
    "        _, l, ro1, w1 = sess.run([train, loss, ro, w], feed_dict={X: inputs})\n",
    "        \n",
    "        towrite = \"\\r{0:4.1f} %, Loss: {1:7.4f}, ro: {2:7.4f}, w1:\".format(e / EPOCHS * 100, l, ro1) + str(w1)\n",
    "        sys.stdout.write(towrite)\n",
    "        sys.stdout.flush()"
   ]
  },
  {
   "cell_type": "markdown",
   "metadata": {},
   "source": [
    "# Visualize the outputs"
   ]
  },
  {
   "cell_type": "code",
   "execution_count": 54,
   "metadata": {},
   "outputs": [],
   "source": [
    "import matplotlib.pyplot as plt\n",
    "\n",
    "def make_meshgrid(x, y, h=.02):\n",
    "    \"\"\"Create a mesh of points to plot in\n",
    "\n",
    "    Parameters\n",
    "    ----------\n",
    "    x: data to base x-axis meshgrid on\n",
    "    y: data to base y-axis meshgrid on\n",
    "    h: stepsize for meshgrid, optional\n",
    "\n",
    "    Returns\n",
    "    -------\n",
    "    xx, yy : ndarray\n",
    "    \"\"\"\n",
    "    x_min, x_max = x.min() - 1, x.max() + 1\n",
    "    y_min, y_max = y.min() - 1, y.max() + 1\n",
    "    xx, yy = np.meshgrid(np.arange(x_min, x_max, h),\n",
    "                         np.arange(y_min, y_max, h))\n",
    "    return xx, yy\n",
    "\n",
    "\n",
    "def plot_contours(ax, clf, xx, yy, **params):\n",
    "    \"\"\"Plot the decision boundaries for a classifier.\n",
    "\n",
    "    Parameters\n",
    "    ----------\n",
    "    ax: matplotlib axes object\n",
    "    clf: a classifier\n",
    "    xx: meshgrid ndarray\n",
    "    yy: meshgrid ndarray\n",
    "    params: dictionary of params to pass to contourf, optional\n",
    "    \"\"\"\n",
    "    Z = clf.predict(np.c_[xx.ravel(), yy.ravel()])\n",
    "    Z = Z.reshape(xx.shape)\n",
    "    out = ax.contourf(xx, yy, Z, **params)\n",
    "    return out"
   ]
  },
  {
   "cell_type": "code",
   "execution_count": 55,
   "metadata": {},
   "outputs": [
    {
     "data": {
      "image/png": "[encoded data removed]",
      "text/plain": [
       "<Figure size 432x288 with 1 Axes>"
      ]
     },
     "metadata": {},
     "output_type": "display_data"
    }
   ],
   "source": [
    "from sklearn import svm\n",
    "clf = svm.OneClassSVM(nu=0.1, kernel=\"linear\")\n",
    "clf.fit(inputs)\n",
    "\n",
    "fig = plt.gcf()\n",
    "ax = fig.gca()\n",
    "X0, X1 = inputs[:, 0], inputs[:, 1]\n",
    "xx, yy = make_meshgrid(X0, X1)\n",
    "plot_contours(ax, clf, xx, yy, cmap=plt.cm.coolwarm, alpha=0.8)\n",
    "ax.scatter(X0, X1, cmap=plt.cm.coolwarm, s=20, edgecolors='k')\n",
    "ax.set_xlim(xx.min(), xx.max())\n",
    "ax.set_ylim(yy.min(), yy.max())\n",
    "plt.show()"
   ]
  },
  {
   "cell_type": "code",
   "execution_count": 56,
   "metadata": {},
   "outputs": [
    {
     "data": {
      "text/plain": [
       "array([1.2728952 , 0.67708284], dtype=float32)"
      ]
     },
     "execution_count": 56,
     "metadata": {},
     "output_type": "execute_result"
    }
   ],
   "source": [
    "w1"
   ]
  },
  {
   "cell_type": "code",
   "execution_count": 57,
   "metadata": {},
   "outputs": [
    {
     "data": {
      "image/png": "[encoded data removed]",
      "text/plain": [
       "<Figure size 432x288 with 1 Axes>"
      ]
     },
     "metadata": {},
     "output_type": "display_data"
    }
   ],
   "source": [
    "fig = plt.gcf()\n",
    "ax = fig.gca()\n",
    "X0, X1 = inputs[:, 0], inputs[:, 1]\n",
    "xx, yy = make_meshgrid(X0, X1)\n",
    "\n",
    "a = -w1[0] / w1[1]\n",
    "xx2 = np.linspace(-5, 5)\n",
    "yy2 = a * xx2 + ro1 / w1[1]\n",
    "\n",
    "ax.scatter(X0, X1, cmap=plt.cm.coolwarm, s=20, edgecolors='k')\n",
    "ax.plot(xx2,yy2)\n",
    "\n",
    "ax.set_xlim(xx.min(), xx.max())\n",
    "ax.set_ylim(yy.min(), yy.max())\n",
    "plt.show()"
   ]
  },
  {
   "cell_type": "code",
   "execution_count": null,
   "metadata": {},
   "outputs": [],
   "source": []
  },
  {
   "cell_type": "code",
   "execution_count": null,
   "metadata": {},
   "outputs": [],
   "source": []
  },
  {
   "cell_type": "code",
   "execution_count": null,
   "metadata": {},
   "outputs": [],
   "source": []
  }
 ],
 "metadata": {
  "kernelspec": {
   "display_name": "Python 3",
   "language": "python",
   "name": "python3"
  },
  "language_info": {
   "codemirror_mode": {
    "name": "ipython",
    "version": 3
   },
   "file_extension": ".py",
   "mimetype": "text/x-python",
   "name": "python",
   "nbconvert_exporter": "python",
   "pygments_lexer": "ipython3",
   "version": "3.6.4"
  },
  "toc": {
   "colors": {
    "hover_highlight": "#DAA520",
    "navigate_num": "#000000",
    "navigate_text": "#333333",
    "running_highlight": "#FF0000",
    "selected_highlight": "#FFD700",
    "sidebar_border": "#EEEEEE",
    "wrapper_background": "#FFFFFF"
   },
   "moveMenuLeft": true,
   "nav_menu": {
    "height": "66px",
    "width": "252px"
   },
   "navigate_menu": true,
   "number_sections": true,
   "sideBar": true,
   "threshold": 4,
   "toc_cell": false,
   "toc_section_display": "block",
   "toc_window_display": false,
   "widenNotebook": false
  }
 },
 "nbformat": 4,
 "nbformat_minor": 2
}
