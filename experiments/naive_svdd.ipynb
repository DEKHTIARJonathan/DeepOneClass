{
 "cells": [
  {
   "cell_type": "markdown",
   "metadata": {},
   "source": [
    "# Naive implementation of SVDD in tensorflow\n",
    "[Original paper by Tax & Duin](https://link.springer.com/content/pdf/10.1023%2FB%3AMACH.0000008084.60811.49.pdf)\n",
    "\n",
    "We found out this classifier is defined by the following optimisation:\n",
    "\n",
    "### $$ \\min_{R, \\xi_i} R^2 + C\\sum_{i=1}^N \\xi_i$$\n",
    "under the constraint:\n",
    "\n",
    "### $$ \\lVert x_i - a \\rVert^2 \\leq R^2 + \\xi_i$$\n",
    "\n",
    "- $a$ is the center of the hypersphere\n",
    "- $R$ is the radius of the hypersphere\n",
    "- $\\xi_i$ are slack variables that are zero if $x_i$ is in the sphere, and represent its distance to the sphere otherwise\n",
    "- $C$ controls the hardness of the margin\n",
    "\n",
    "This optimisation problem can be solved in tensorflow if we find a way to take account of the constraints."
   ]
  },
  {
   "cell_type": "markdown",
   "metadata": {},
   "source": [
    "We start by initializing the variables to be optimised against, the constant $C$ and the input placeholder\n",
    "\n",
    "Here we work in a 2D space."
   ]
  },
  {
   "cell_type": "code",
   "execution_count": 10,
   "metadata": {},
   "outputs": [],
   "source": [
    "import tensorflow as tf\n",
    "import sys\n",
    "import numpy as np\n",
    "\n",
    "DIMS = 2\n",
    "\n",
    "R = tf.Variable(tf.random_normal([], mean=10), dtype=tf.float32, name=\"Radius\")\n",
    "a = tf.Variable(tf.random_normal([DIMS], mean=5), dtype=tf.float32, name=\"Center\")\n",
    "\n",
    "X = tf.placeholder(tf.float32, shape=(None, DIMS), name=\"X\")\n",
    "C = tf.constant(10.0, dtype=tf.float32)"
   ]
  },
  {
   "cell_type": "markdown",
   "metadata": {},
   "source": [
    "# Define the loss\n",
    "\n",
    "We then define the loss function. In order to account for the constraint, we choose to penalize the model if the constraint is not fullfilled. The amount of penalization is controlled by $C$."
   ]
  },
  {
   "cell_type": "code",
   "execution_count": 11,
   "metadata": {},
   "outputs": [],
   "source": [
    "constraint = tf.square(R) - tf.square(tf.norm(X - a, axis=1))\n",
    "loss = tf.square(R) - C * tf.reduce_sum(tf.minimum(constraint, 0.0))\n",
    "\n",
    "# with this loss, we only count the farthest point.\n",
    "# loss = tf.square(R) - C * tf.minimum(tf.reduce_min(constraint), 0.0)\n",
    "\n",
    "# the loss is summed over all the batch\n",
    "loss = tf.reduce_sum(loss)"
   ]
  },
  {
   "cell_type": "markdown",
   "metadata": {},
   "source": [
    "# Define the optimizer and train"
   ]
  },
  {
   "cell_type": "code",
   "execution_count": 12,
   "metadata": {},
   "outputs": [
    {
     "name": "stdout",
     "output_type": "stream",
     "text": [
      "100.0 %, Loss:  4.2348, R:  2.0579, a:[2.9465003 3.0801756]"
     ]
    }
   ],
   "source": [
    "optimizer = tf.train.AdamOptimizer(0.1)\n",
    "train = optimizer.minimize(loss)\n",
    "\n",
    "EPOCHS = 5000\n",
    "INPUTS_NBR = 50\n",
    "\n",
    "inputs = np.random.normal(3*np.ones(DIMS), scale=1, size=(INPUTS_NBR, DIMS))\n",
    "\n",
    "with tf.Session() as sess:\n",
    "    sess.run(tf.global_variables_initializer())\n",
    "    for e in range(EPOCHS):\n",
    "        _, l, R1, a1 = sess.run([train, loss, R, a], feed_dict={X: inputs})\n",
    "        \n",
    "        towrite = \"\\r{0:4.1f} %, Loss: {1:7.4f}, R: {2:7.4f}, a:\".format(e / EPOCHS * 100, l, R1) + str(a1)\n",
    "        sys.stdout.write(towrite)\n",
    "        sys.stdout.flush()"
   ]
  },
  {
   "cell_type": "markdown",
   "metadata": {},
   "source": [
    "# Visualize the outputs"
   ]
  },
  {
   "cell_type": "code",
   "execution_count": 13,
   "metadata": {},
   "outputs": [
    {
     "data": {
      "image/png": "[encoded data removed]",
      "text/plain": [
       "<matplotlib.figure.Figure at 0x7efd3ce66908>"
      ]
     },
     "metadata": {},
     "output_type": "display_data"
    }
   ],
   "source": [
    "import matplotlib.pyplot as plt\n",
    "\n",
    "xx, yy = np.meshgrid(np.linspace(-5, 5, 500), np.linspace(-5, 5, 500))\n",
    "\n",
    "fig = plt.gcf()\n",
    "ax = fig.gca()\n",
    "\n",
    "s1 = plt.scatter(inputs[:, 0], inputs[:, 1], c='red', edgecolors='k')\n",
    "s2 = plt.scatter(a1[0], a1[1], c='blue', s=100, edgecolors='w')\n",
    "c = plt.Circle(tuple(a1), R1, fill=False)\n",
    "ax.add_patch(c)\n",
    "\n",
    "plt.axis('equal')\n",
    "\n",
    "plt.legend([s1, s2],\n",
    "           [\"inputs\", \"center\"],\n",
    "           loc=\"upper left\")\n",
    "plt.show()"
   ]
  },
  {
   "cell_type": "code",
   "execution_count": null,
   "metadata": {},
   "outputs": [],
   "source": []
  }
 ],
 "metadata": {
  "kernelspec": {
   "display_name": "Tensorflow",
   "language": "python",
   "name": "tensorflow"
  },
  "language_info": {
   "codemirror_mode": {
    "name": "ipython",
    "version": 3
   },
   "file_extension": ".py",
   "mimetype": "text/x-python",
   "name": "python",
   "nbconvert_exporter": "python",
   "pygments_lexer": "ipython3",
   "version": "3.6.4"
  }
 },
 "nbformat": 4,
 "nbformat_minor": 2
}
