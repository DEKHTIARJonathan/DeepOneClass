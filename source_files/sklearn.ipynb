{
 "cells": [
  {
   "cell_type": "code",
   "execution_count": 1,
   "metadata": {},
   "outputs": [
    {
     "name": "stderr",
     "output_type": "stream",
     "text": [
      "/Users/Sylvain/.pyenv/versions/3.6.4/lib/python3.6/site-packages/h5py/__init__.py:36: FutureWarning: Conversion of the second argument of issubdtype from `float` to `np.floating` is deprecated. In future, it will be treated as `np.float64 == np.dtype(float).type`.\n",
      "  from ._conv import register_converters as _register_converters\n"
     ]
    }
   ],
   "source": [
    "#!/usr/bin/env python\n",
    "import os\n",
    "import numpy as np\n",
    "import tensorflow as tf\n",
    "from data_utils import train_cached_features_dataset, train_img_dataset, run_dataset_through_network\n",
    "from data_utils import _LoadPreTrainedWeights\n",
    "from vgg_network import VGG_Network\n",
    "from estimator_svdd import SVDDClassifier\n",
    "from estimator_ocsvm import OCSVMClassifier\n",
    "from sklearn.externals import joblib\n",
    "from sklearn.svm import OneClassSVM\n",
    "from flags import FLAGS"
   ]
  },
  {
   "cell_type": "code",
   "execution_count": 13,
   "metadata": {},
   "outputs": [],
   "source": [
    "class_nbr = 6\n",
    "batch_size = 128\n",
    "cnn_output_dir = '../tmp/cnn_output/VGG16'\n",
    "cnn_out_dims = 25088"
   ]
  },
  {
   "cell_type": "markdown",
   "metadata": {},
   "source": [
    "# Training"
   ]
  },
  {
   "cell_type": "code",
   "execution_count": 30,
   "metadata": {},
   "outputs": [],
   "source": [
    "def input_fn_train():\n",
    "    with tf.name_scope('input_dataset'):\n",
    "        dataset = train_cached_features_dataset(class_nbr, cnn_output_dir, cnn_out_dims)\n",
    "        dataset = dataset.shuffle(1000).batch(batch_size)\n",
    "        return dataset\n",
    "\n",
    "x_train = []\n",
    "input_fn = input_fn_train().make_one_shot_iterator().get_next()\n",
    "with tf.Session() as sess:\n",
    "    while True:\n",
    "        try:\n",
    "            data = sess.run(input_fn)\n",
    "            for i in range(data.shape[0]):\n",
    "                x_train.append(data[i])\n",
    "        except tf.errors.OutOfRangeError:\n",
    "            break\n",
    "x_train = np.asarray(x_train)\n",
    "classifier = OneClassSVM(kernel='linear', nu=0.7, max_iter=10)"
   ]
  },
  {
   "cell_type": "code",
   "execution_count": 31,
   "metadata": {},
   "outputs": [
    {
     "data": {
      "text/plain": [
       "(850, 25088)"
      ]
     },
     "execution_count": 31,
     "metadata": {},
     "output_type": "execute_result"
    }
   ],
   "source": [
    "x_train.shape"
   ]
  },
  {
   "cell_type": "code",
   "execution_count": 32,
   "metadata": {},
   "outputs": [
    {
     "name": "stderr",
     "output_type": "stream",
     "text": [
      "/Users/Sylvain/.pyenv/versions/3.6.4/lib/python3.6/site-packages/sklearn/svm/base.py:218: ConvergenceWarning: Solver terminated early (max_iter=10).  Consider pre-processing your data with StandardScaler or MinMaxScaler.\n",
      "  % self.max_iter, ConvergenceWarning)\n"
     ]
    },
    {
     "data": {
      "text/plain": [
       "OneClassSVM(cache_size=200, coef0=0.0, degree=3, gamma='auto',\n",
       "      kernel='linear', max_iter=10, nu=0.7, random_state=None,\n",
       "      shrinking=True, tol=0.001, verbose=False)"
      ]
     },
     "execution_count": 32,
     "metadata": {},
     "output_type": "execute_result"
    }
   ],
   "source": [
    "classifier.fit(x_train)"
   ]
  },
  {
   "cell_type": "markdown",
   "metadata": {},
   "source": [
    "# Validation"
   ]
  },
  {
   "cell_type": "code",
   "execution_count": 33,
   "metadata": {},
   "outputs": [
    {
     "name": "stdout",
     "output_type": "stream",
     "text": [
      "INFO:tensorflow:(300,)\n",
      "Confusion matrix, without normalization\n",
      "INFO:tensorflow:[[ 89  61]\n",
      " [ 43 107]]\n"
     ]
    },
    {
     "data": {
      "image/png": "[encoded data removed]",
      "text/plain": [
       "<Figure size 432x288 with 2 Axes>"
      ]
     },
     "metadata": {},
     "output_type": "display_data"
    }
   ],
   "source": [
    "import itertools\n",
    "from matplotlib import pyplot as plt\n",
    "from sklearn.metrics import accuracy_score, precision_score, recall_score, f1_score, confusion_matrix\n",
    "\n",
    "from estimator_svdd import SVDDClassifier\n",
    "from estimator_ocsvm import OCSVMClassifier\n",
    "from sklearn.externals import joblib\n",
    "from sklearn.svm import OneClassSVM\n",
    "from vgg_network import VGG_Network\n",
    "from data_utils import test_cached_features_dataset, test_img_dataset, run_dataset_through_network\n",
    "from data_utils import _LoadPreTrainedWeights\n",
    "\n",
    "def plot_confusion_matrix(cm, classes,\n",
    "                          normalize=False,\n",
    "                          title='Confusion matrix',\n",
    "                          cmap=plt.cm.Blues):\n",
    "    \"\"\"\n",
    "    This function prints and plots the confusion matrix.\n",
    "    Normalization can be applied by setting `normalize=True`.\n",
    "    \"\"\"\n",
    "    if normalize:\n",
    "        cm = cm.astype('float') / cm.sum(axis=1)[:, np.newaxis]\n",
    "        print(\"Normalized confusion matrix\")\n",
    "    else:\n",
    "        print('Confusion matrix, without normalization')\n",
    "\n",
    "    tf.logging.info(cm)\n",
    "\n",
    "    plt.imshow(cm, interpolation='nearest', cmap=cmap)\n",
    "    plt.title(title)\n",
    "    plt.colorbar()\n",
    "    tick_marks = np.arange(len(classes))\n",
    "    plt.xticks(tick_marks, classes, rotation=45)\n",
    "    plt.yticks(tick_marks, classes)\n",
    "\n",
    "    fmt = '.2f' if normalize else 'd'\n",
    "    thresh = cm[0].sum() / 2.\n",
    "    for i, j in itertools.product(range(cm.shape[0]), range(cm.shape[1])):\n",
    "        plt.text(j, i, format(cm[i, j], fmt),\n",
    "                 horizontalalignment=\"center\",\n",
    "                 color=\"white\" if cm[i, j] > thresh else \"black\")\n",
    "\n",
    "    plt.tight_layout()\n",
    "    plt.ylabel('True label')\n",
    "    plt.xlabel('Predicted label')\n",
    "    plt.show()\n",
    "\n",
    "\n",
    "def evaluation_summary(y_true, y_pred, plot_cm=False):\n",
    "    acc = accuracy_score(y_true, y_pred)\n",
    "    pre = precision_score(y_true, y_pred)\n",
    "    rec = recall_score(y_true, y_pred)\n",
    "    f1 = f1_score(y_true, y_pred)\n",
    "    cm = confusion_matrix(y_true, y_pred)\n",
    "\n",
    "    if plot_cm:\n",
    "        plot_confusion_matrix(cm, classes=[\"Outlier\", \"Normal\"],\n",
    "                              normalize=False, title='Confusion matrix')\n",
    "\n",
    "    return pd.Series({\n",
    "        \"Accuracy\": acc,\n",
    "        \"Precision\": pre,\n",
    "        \"Recall\": rec,\n",
    "        \"f1-score\": f1\n",
    "    })\n",
    "\n",
    "\n",
    "input_fn_test = lambda: test_cached_features_dataset(class_nbr, cnn_output_dir, cnn_out_dims)\\\n",
    "                         .batch(batch_size)\n",
    "\n",
    "x_test = []\n",
    "input_fn = test_cached_features_dataset(class_nbr, cnn_output_dir, cnn_out_dims).batch(1)\n",
    "input_fn = input_fn.make_one_shot_iterator().get_next()\n",
    "with tf.Session() as sess:\n",
    "    while True:\n",
    "        try:\n",
    "            data = sess.run(input_fn)\n",
    "            x_test.append(data[0][0])\n",
    "        except tf.errors.OutOfRangeError:\n",
    "            break\n",
    "x_test = np.asarray(x_test)\n",
    "test_predicted_classes = classifier.predict(x_test)\n",
    "\n",
    "# Get true labels\n",
    "y_test = []\n",
    "input_fn = test_cached_features_dataset(class_nbr, cnn_output_dir, cnn_out_dims).batch(1)\n",
    "input_fn = input_fn.make_one_shot_iterator().get_next()\n",
    "sess = tf.Session()\n",
    "while True:\n",
    "    try:\n",
    "        data = sess.run(input_fn)\n",
    "        y_test.append(data[1][0])\n",
    "    except tf.errors.OutOfRangeError:\n",
    "        break\n",
    "y_test = np.asarray(y_test)\n",
    "tf.logging.info(y_test.shape)\n",
    "\n",
    "s = evaluation_summary(y_test, test_predicted_classes, plot_cm=True)"
   ]
  },
  {
   "cell_type": "code",
   "execution_count": 34,
   "metadata": {},
   "outputs": [
    {
     "data": {
      "text/plain": [
       "Accuracy     0.653333\n",
       "Precision    0.636905\n",
       "Recall       0.713333\n",
       "f1-score     0.672956\n",
       "dtype: float64"
      ]
     },
     "execution_count": 34,
     "metadata": {},
     "output_type": "execute_result"
    }
   ],
   "source": [
    "s"
   ]
  },
  {
   "cell_type": "code",
   "execution_count": null,
   "metadata": {},
   "outputs": [],
   "source": []
  }
 ],
 "metadata": {
  "kernelspec": {
   "display_name": "Python 3",
   "language": "python",
   "name": "python3"
  },
  "language_info": {
   "codemirror_mode": {
    "name": "ipython",
    "version": 3
   },
   "file_extension": ".py",
   "mimetype": "text/x-python",
   "name": "python",
   "nbconvert_exporter": "python",
   "pygments_lexer": "ipython3",
   "version": "3.6.4"
  },
  "toc": {
   "colors": {
    "hover_highlight": "#DAA520",
    "navigate_num": "#000000",
    "navigate_text": "#333333",
    "running_highlight": "#FF0000",
    "selected_highlight": "#FFD700",
    "sidebar_border": "#EEEEEE",
    "wrapper_background": "#FFFFFF"
   },
   "moveMenuLeft": true,
   "nav_menu": {
    "height": "48px",
    "width": "252px"
   },
   "navigate_menu": true,
   "number_sections": true,
   "sideBar": true,
   "threshold": 4,
   "toc_cell": false,
   "toc_section_display": "block",
   "toc_window_display": false,
   "widenNotebook": false
  }
 },
 "nbformat": 4,
 "nbformat_minor": 2
}
