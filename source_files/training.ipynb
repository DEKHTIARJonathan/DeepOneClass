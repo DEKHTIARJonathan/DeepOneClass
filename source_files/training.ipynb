{
 "cells": [
  {
   "cell_type": "code",
   "execution_count": 1,
   "metadata": {},
   "outputs": [],
   "source": [
    "import os\n",
    "import numpy as np\n",
    "import pandas as pd\n",
    "import tensorflow as tf"
   ]
  },
  {
   "cell_type": "markdown",
   "metadata": {},
   "source": [
    "Link towards reporting gsheet document:\n",
    "https://docs.google.com/spreadsheets/d/1o0O9HGCUABQWF1C6uHw65veY9Axd3pATWwdG2WSpdf8/edit?usp=sharing"
   ]
  },
  {
   "cell_type": "code",
   "execution_count": 2,
   "metadata": {},
   "outputs": [],
   "source": [
    "# Parameters corresponding to gsheet file\n",
    "CLASS_NBR = 6\n",
    "MODE = \"cached\" # \"direct\" or \"cached\"\n",
    "KERNEL = \"linear\" # \"linear\" or \"rbf\"\n",
    "LR = 0.4\n",
    "C = 3"
   ]
  },
  {
   "cell_type": "code",
   "execution_count": 3,
   "metadata": {},
   "outputs": [],
   "source": [
    "# Local parameters\n",
    "BATCH_SIZE = 64\n",
    "CNN_OUTPUT_DIR = os.path.join(\"..\", \"tmp\", \"cnn_output\", \"VGG16\")\n",
    "TARGET_W = 224\n",
    "EPOCHS = 500\n",
    "MODEL_DIR_DIRECT = None#\"../tmp/estimator_svdd_naive_direct\"\n",
    "MODEL_DIR_CACHED = None#\"../tmp/estimator_svdd_naive_cached\""
   ]
  },
  {
   "cell_type": "markdown",
   "metadata": {},
   "source": [
    "# Input data"
   ]
  },
  {
   "cell_type": "code",
   "execution_count": 4,
   "metadata": {},
   "outputs": [
    {
     "data": {
      "text/plain": [
       "(<MapDataset shapes: (25088,), types: tf.float32>,\n",
       " <MapDataset shapes: ((25088,), <unknown>), types: (tf.float32, tf.int32)>,\n",
       " <MapDataset shapes: (224, 224, 3), types: tf.float32>,\n",
       " <MapDataset shapes: ((224, 224, 3), <unknown>), types: (tf.float32, tf.int32)>)"
      ]
     },
     "execution_count": 4,
     "metadata": {},
     "output_type": "execute_result"
    }
   ],
   "source": [
    "from data_utils import train_cnn_input_fn, test_cnn_input_fn, train_input_fn, test_input_fn\n",
    "\n",
    "# Sanity check\n",
    "train_cnn_input_fn(\n",
    "    CLASS_NBR,\n",
    "    CNN_OUTPUT_DIR\n",
    "), test_cnn_input_fn(\n",
    "    CLASS_NBR,\n",
    "    CNN_OUTPUT_DIR\n",
    "), train_input_fn(\n",
    "    CLASS_NBR,\n",
    "    TARGET_W\n",
    "), test_input_fn(\n",
    "    CLASS_NBR,\n",
    "    TARGET_W\n",
    ")"
   ]
  },
  {
   "cell_type": "markdown",
   "metadata": {},
   "source": [
    "# Training"
   ]
  },
  {
   "cell_type": "code",
   "execution_count": 5,
   "metadata": {},
   "outputs": [
    {
     "name": "stdout",
     "output_type": "stream",
     "text": [
      "INFO:tensorflow:Using default config.\n",
      "WARNING:tensorflow:Using temporary folder as model directory: /tmp/tmpreq2co9u\n",
      "INFO:tensorflow:Using config: {'_keep_checkpoint_max': 5, '_num_ps_replicas': 0, '_cluster_spec': <tensorflow.python.training.server_lib.ClusterSpec object at 0x7fa719b2ee80>, '_tf_random_seed': None, '_keep_checkpoint_every_n_hours': 10000, '_model_dir': '/tmp/tmpreq2co9u', '_is_chief': True, '_log_step_count_steps': 100, '_save_summary_steps': 100, '_task_id': 0, '_session_config': None, '_train_distribute': None, '_master': '', '_evaluation_master': '', '_save_checkpoints_steps': None, '_task_type': 'worker', '_num_worker_replicas': 1, '_service': None, '_save_checkpoints_secs': 600, '_global_id_in_cluster': 0}\n"
     ]
    }
   ],
   "source": [
    "from estimator_svdd_naive import OCClassifier as SVDDClassifier\n",
    "\n",
    "if MODE == \"cached\":\n",
    "    input_fn_train = lambda: train_cnn_input_fn(CLASS_NBR, CNN_OUTPUT_DIR).shuffle(1000).repeat().batch(BATCH_SIZE)\n",
    "    input_fn_test = lambda: test_cnn_input_fn(CLASS_NBR, CNN_OUTPUT_DIR).batch(BATCH_SIZE)\n",
    "    train_hooks = []\n",
    "    test_hooks = train_hooks\n",
    "    MODEL_DIR = MODEL_DIR_CACHED\n",
    "elif MODE == \"direct\":\n",
    "    from vgg_network import VGG_Network\n",
    "    from estimator_svdd_naive import _LoadPreTrainedWeightsVGG\n",
    "    from data_utils import run_dataset_through_network\n",
    "    \n",
    "    net = VGG_Network(include_FC_head=False)\n",
    "    \n",
    "    def get_train_dataset(net, reuse=False):\n",
    "        dataset = train_input_fn(CLASS_NBR, TARGET_W).batch(BATCH_SIZE)\n",
    "        dataset = run_dataset_through_network(dataset, net, reuse=reuse)\n",
    "        return dataset.repeat()\n",
    "    \n",
    "    def get_test_dataset(net, reuse=False):\n",
    "        dataset = test_input_fn(CLASS_NBR, TARGET_W).batch(BATCH_SIZE)\n",
    "        dataset = dataset.map(lambda img, label: img)\n",
    "        dataset = run_dataset_through_network(dataset, net, reuse=reuse)\n",
    "        return dataset\n",
    "    \n",
    "    input_fn_train = lambda: get_train_dataset(net, reuse=False)\n",
    "    input_fn_test = lambda: get_test_dataset(net, reuse=False)\n",
    "    train_hooks = [_LoadPreTrainedWeightsVGG(net)]\n",
    "    test_hooks = train_hooks\n",
    "    MODEL_DIR = MODEL_DIR_DIRECT\n",
    "else:\n",
    "    raise Exception(\"MODE unknown\")\n",
    "    \n",
    "classifier = SVDDClassifier(\n",
    "    c=C,\n",
    "    kernel=KERNEL,\n",
    "    learning_rate=LR,\n",
    "    model_dir=MODEL_DIR,\n",
    ")"
   ]
  },
  {
   "cell_type": "code",
   "execution_count": null,
   "metadata": {
    "scrolled": false
   },
   "outputs": [
    {
     "name": "stdout",
     "output_type": "stream",
     "text": [
      "INFO:tensorflow:Calling model_fn.\n",
      "INFO:tensorflow:Done calling model_fn.\n",
      "INFO:tensorflow:Create CheckpointSaverHook.\n",
      "INFO:tensorflow:Graph was finalized.\n",
      "INFO:tensorflow:Running local_init_op.\n",
      "INFO:tensorflow:Done running local_init_op.\n",
      "INFO:tensorflow:Saving checkpoints for 1 into /tmp/tmpreq2co9u/model.ckpt.\n",
      "INFO:tensorflow:step = 0, loss = 2590574.5\n",
      "INFO:tensorflow:global_step/sec: 15.2312\n",
      "INFO:tensorflow:step = 100, loss = 341997.94 (6.568 sec)\n",
      "INFO:tensorflow:global_step/sec: 14.1815\n",
      "INFO:tensorflow:step = 200, loss = 287906.47 (7.050 sec)\n",
      "INFO:tensorflow:global_step/sec: 13.7536\n",
      "INFO:tensorflow:step = 300, loss = 248730.72 (7.271 sec)\n",
      "INFO:tensorflow:global_step/sec: 12.8518\n",
      "INFO:tensorflow:step = 400, loss = 193951.81 (7.781 sec)\n",
      "INFO:tensorflow:global_step/sec: 14.5807\n",
      "INFO:tensorflow:step = 500, loss = 138991.0 (6.860 sec)\n",
      "INFO:tensorflow:global_step/sec: 12.3819\n",
      "INFO:tensorflow:step = 600, loss = 127662.164 (8.075 sec)\n",
      "INFO:tensorflow:global_step/sec: 14.8387\n",
      "INFO:tensorflow:step = 700, loss = 126152.016 (6.744 sec)\n",
      "INFO:tensorflow:global_step/sec: 13.7828\n",
      "INFO:tensorflow:step = 800, loss = 128228.21 (7.250 sec)\n",
      "INFO:tensorflow:global_step/sec: 15.4201\n",
      "INFO:tensorflow:step = 900, loss = 122739.81 (6.485 sec)\n",
      "INFO:tensorflow:global_step/sec: 13.2263\n",
      "INFO:tensorflow:step = 1000, loss = 126085.875 (7.561 sec)\n",
      "INFO:tensorflow:global_step/sec: 15.2711\n",
      "INFO:tensorflow:step = 1100, loss = 124654.44 (6.548 sec)\n",
      "INFO:tensorflow:global_step/sec: 13.6328\n",
      "INFO:tensorflow:step = 1200, loss = 126055.75 (7.335 sec)\n",
      "INFO:tensorflow:global_step/sec: 15.2468\n",
      "INFO:tensorflow:step = 1300, loss = 130572.38 (6.560 sec)\n",
      "INFO:tensorflow:global_step/sec: 13.6179\n",
      "INFO:tensorflow:step = 1400, loss = 127323.63 (7.342 sec)\n",
      "INFO:tensorflow:global_step/sec: 13.5928\n",
      "INFO:tensorflow:step = 1500, loss = 128228.0 (7.358 sec)\n",
      "INFO:tensorflow:global_step/sec: 15.2079\n",
      "INFO:tensorflow:step = 1600, loss = 131679.1 (6.574 sec)\n",
      "INFO:tensorflow:global_step/sec: 13.2858\n",
      "INFO:tensorflow:step = 1700, loss = 129597.01 (7.527 sec)\n",
      "INFO:tensorflow:global_step/sec: 15.1919\n",
      "INFO:tensorflow:step = 1800, loss = 125420.11 (6.585 sec)\n",
      "INFO:tensorflow:global_step/sec: 13.2337\n",
      "INFO:tensorflow:step = 1900, loss = 134917.88 (7.559 sec)\n",
      "INFO:tensorflow:global_step/sec: 15.346\n",
      "INFO:tensorflow:step = 2000, loss = 133880.1 (6.511 sec)\n",
      "INFO:tensorflow:global_step/sec: 13.5839\n",
      "INFO:tensorflow:step = 2100, loss = 127628.11 (7.363 sec)\n",
      "INFO:tensorflow:global_step/sec: 14.9745\n",
      "INFO:tensorflow:step = 2200, loss = 130993.6 (6.678 sec)\n",
      "INFO:tensorflow:global_step/sec: 13.2716\n",
      "INFO:tensorflow:step = 2300, loss = 128095.54 (7.535 sec)\n",
      "INFO:tensorflow:global_step/sec: 15.328\n",
      "INFO:tensorflow:step = 2400, loss = 127785.11 (6.523 sec)\n",
      "INFO:tensorflow:global_step/sec: 13.6562\n",
      "INFO:tensorflow:step = 2500, loss = 124581.62 (7.322 sec)\n",
      "INFO:tensorflow:global_step/sec: 15.0619\n",
      "INFO:tensorflow:step = 2600, loss = 129493.15 (6.640 sec)\n",
      "INFO:tensorflow:global_step/sec: 13.4339\n",
      "INFO:tensorflow:step = 2700, loss = 132956.95 (7.443 sec)\n",
      "INFO:tensorflow:global_step/sec: 15.2583\n",
      "INFO:tensorflow:step = 2800, loss = 130879.75 (6.555 sec)\n",
      "INFO:tensorflow:global_step/sec: 13.6715\n",
      "INFO:tensorflow:step = 2900, loss = 130124.18 (7.313 sec)\n",
      "INFO:tensorflow:global_step/sec: 15.376\n",
      "INFO:tensorflow:step = 3000, loss = 132434.94 (6.504 sec)\n",
      "INFO:tensorflow:global_step/sec: 13.4657\n",
      "INFO:tensorflow:step = 3100, loss = 126182.72 (7.426 sec)\n",
      "INFO:tensorflow:global_step/sec: 13.2928\n",
      "INFO:tensorflow:step = 3200, loss = 130875.22 (7.525 sec)\n",
      "INFO:tensorflow:global_step/sec: 14.7245\n",
      "INFO:tensorflow:step = 3300, loss = 125825.58 (6.791 sec)\n",
      "INFO:tensorflow:global_step/sec: 13.7667\n",
      "INFO:tensorflow:step = 3400, loss = 127515.36 (7.264 sec)\n",
      "INFO:tensorflow:global_step/sec: 15.0286\n",
      "INFO:tensorflow:step = 3500, loss = 135371.86 (6.655 sec)\n",
      "INFO:tensorflow:global_step/sec: 13.4371\n",
      "INFO:tensorflow:step = 3600, loss = 127758.53 (7.440 sec)\n",
      "INFO:tensorflow:global_step/sec: 14.942\n",
      "INFO:tensorflow:step = 3700, loss = 127762.695 (6.692 sec)\n",
      "INFO:tensorflow:global_step/sec: 13.3338\n",
      "INFO:tensorflow:step = 3800, loss = 129621.78 (7.502 sec)\n",
      "INFO:tensorflow:global_step/sec: 15.2055\n",
      "INFO:tensorflow:step = 3900, loss = 128900.13 (6.575 sec)\n",
      "INFO:tensorflow:global_step/sec: 13.5871\n",
      "INFO:tensorflow:step = 4000, loss = 131109.16 (7.362 sec)\n",
      "INFO:tensorflow:global_step/sec: 15.2031\n",
      "INFO:tensorflow:step = 4100, loss = 132824.08 (6.576 sec)\n",
      "INFO:tensorflow:global_step/sec: 13.7344\n",
      "INFO:tensorflow:step = 4200, loss = 126198.72 (7.282 sec)\n",
      "INFO:tensorflow:global_step/sec: 14.9283\n",
      "INFO:tensorflow:step = 4300, loss = 127941.27 (6.698 sec)\n",
      "INFO:tensorflow:global_step/sec: 13.2998\n",
      "INFO:tensorflow:step = 4400, loss = 128268.89 (7.518 sec)\n",
      "INFO:tensorflow:global_step/sec: 15.3508\n",
      "INFO:tensorflow:step = 4500, loss = 129984.4 (6.519 sec)\n",
      "INFO:tensorflow:global_step/sec: 13.2541\n",
      "INFO:tensorflow:step = 4600, loss = 134653.16 (7.540 sec)\n",
      "INFO:tensorflow:global_step/sec: 14.8479\n",
      "INFO:tensorflow:step = 4700, loss = 136068.23 (6.740 sec)\n",
      "INFO:tensorflow:global_step/sec: 13.68\n",
      "INFO:tensorflow:step = 4800, loss = 132452.7 (7.308 sec)\n",
      "INFO:tensorflow:global_step/sec: 13.3439\n",
      "INFO:tensorflow:step = 4900, loss = 133250.86 (7.493 sec)\n",
      "INFO:tensorflow:global_step/sec: 15.2472\n",
      "INFO:tensorflow:step = 5000, loss = 137634.14 (6.557 sec)\n",
      "INFO:tensorflow:global_step/sec: 13.222\n",
      "INFO:tensorflow:step = 5100, loss = 125219.83 (7.563 sec)\n",
      "INFO:tensorflow:global_step/sec: 14.8025\n",
      "INFO:tensorflow:step = 5200, loss = 128888.266 (6.756 sec)\n",
      "INFO:tensorflow:global_step/sec: 13.28\n",
      "INFO:tensorflow:step = 5300, loss = 126373.0 (7.532 sec)\n",
      "INFO:tensorflow:global_step/sec: 14.8148\n",
      "INFO:tensorflow:step = 5400, loss = 123112.25 (6.750 sec)\n",
      "INFO:tensorflow:global_step/sec: 13.0307\n",
      "INFO:tensorflow:step = 5500, loss = 131723.6 (7.674 sec)\n",
      "INFO:tensorflow:global_step/sec: 15.3096\n",
      "INFO:tensorflow:step = 5600, loss = 130658.72 (6.531 sec)\n",
      "INFO:tensorflow:global_step/sec: 14.0378\n",
      "INFO:tensorflow:step = 5700, loss = 127637.91 (7.124 sec)\n",
      "INFO:tensorflow:global_step/sec: 15.1647\n",
      "INFO:tensorflow:step = 5800, loss = 133892.72 (6.593 sec)\n",
      "INFO:tensorflow:global_step/sec: 13.4549\n",
      "INFO:tensorflow:step = 5900, loss = 130423.16 (7.433 sec)\n",
      "INFO:tensorflow:global_step/sec: 15.0577\n",
      "INFO:tensorflow:step = 6000, loss = 131438.67 (6.640 sec)\n",
      "INFO:tensorflow:global_step/sec: 13.6034\n",
      "INFO:tensorflow:step = 6100, loss = 128109.81 (7.361 sec)\n",
      "INFO:tensorflow:global_step/sec: 15.207\n",
      "INFO:tensorflow:step = 6200, loss = 130077.95 (6.566 sec)\n",
      "INFO:tensorflow:global_step/sec: 13.6681\n",
      "INFO:tensorflow:step = 6300, loss = 129207.83 (7.316 sec)\n",
      "INFO:tensorflow:global_step/sec: 15.1952\n",
      "INFO:tensorflow:step = 6400, loss = 125834.164 (6.582 sec)\n",
      "INFO:tensorflow:global_step/sec: 13.5974\n",
      "INFO:tensorflow:step = 6500, loss = 131137.2 (7.353 sec)\n",
      "INFO:tensorflow:global_step/sec: 13.115\n",
      "INFO:tensorflow:step = 6600, loss = 128594.29 (7.629 sec)\n"
     ]
    }
   ],
   "source": [
    "classifier.train(\n",
    "    input_fn=input_fn_train,\n",
    "    steps=EPOCHS * 850 / BATCH_SIZE,\n",
    "    hooks=train_hooks\n",
    ")"
   ]
  },
  {
   "cell_type": "markdown",
   "metadata": {},
   "source": [
    "# Predicting"
   ]
  },
  {
   "cell_type": "code",
   "execution_count": null,
   "metadata": {
    "scrolled": false
   },
   "outputs": [],
   "source": [
    "predictions = classifier.predict(\n",
    "    input_fn=input_fn_test,\n",
    "    hooks=test_hooks\n",
    ")\n",
    "\n",
    "predictions_list = list(predictions)\n",
    "predicted_scores = np.asarray(list(map(lambda p: p[\"predicted_scores\"], predictions_list))).astype(np.int32)\n",
    "predicted_classes = np.asarray(list(map(lambda p: p[\"predicted_classes\"], predictions_list))).astype(np.int32)"
   ]
  },
  {
   "cell_type": "code",
   "execution_count": null,
   "metadata": {},
   "outputs": [],
   "source": [
    "df = pd.DataFrame(predicted_classes)\n",
    "df.plot.hist()"
   ]
  },
  {
   "cell_type": "markdown",
   "metadata": {},
   "source": [
    "# Validation and metrics"
   ]
  },
  {
   "cell_type": "code",
   "execution_count": null,
   "metadata": {},
   "outputs": [],
   "source": [
    "# Test set\n",
    "y_test = []\n",
    "input_fn = test_cnn_input_fn(CLASS_NBR, CNN_OUTPUT_DIR).batch(1)\n",
    "input_fn = input_fn.make_one_shot_iterator().get_next()\n",
    "sess = tf.Session()\n",
    "while True:\n",
    "    try:\n",
    "        data = sess.run(input_fn)\n",
    "        y_test.append(data[1][0])\n",
    "    except tf.errors.OutOfRangeError:\n",
    "        break\n",
    "y_test = np.asarray(y_test)\n",
    "y_test.shape"
   ]
  },
  {
   "cell_type": "code",
   "execution_count": null,
   "metadata": {},
   "outputs": [],
   "source": [
    "from validation import evaluation_summary\n",
    "evaluation_summary(y_test, predicted_classes, plot_cm=True)"
   ]
  },
  {
   "cell_type": "code",
   "execution_count": null,
   "metadata": {},
   "outputs": [],
   "source": [
    "from data_utils import _cnn_input_fn\n",
    "# Train set\n",
    "y_train = np.ones(850)\n",
    "y_train.shape\n",
    "\n",
    "predictions = classifier.predict(\n",
    "    input_fn=lambda: test_cnn_input_fn(CLASS_NBR, CNN_OUTPUT_DIR).batch(BATCH_SIZE)\n",
    ")"
   ]
  },
  {
   "cell_type": "code",
   "execution_count": null,
   "metadata": {},
   "outputs": [],
   "source": [
    "predictions_list = list(predictions)\n",
    "predicted_scores = np.asarray(list(map(lambda p: p[\"predicted_scores\"], predictions_list))).astype(np.int32)\n",
    "predicted_classes = np.asarray(list(map(lambda p: p[\"predicted_classes\"], predictions_list))).astype(np.int32)\n",
    "\n",
    "df = pd.DataFrame(predicted_classes)\n",
    "df.plot.hist()"
   ]
  },
  {
   "cell_type": "code",
   "execution_count": null,
   "metadata": {},
   "outputs": [],
   "source": []
  },
  {
   "cell_type": "code",
   "execution_count": null,
   "metadata": {},
   "outputs": [],
   "source": []
  },
  {
   "cell_type": "code",
   "execution_count": null,
   "metadata": {},
   "outputs": [],
   "source": []
  }
 ],
 "metadata": {
  "kernelspec": {
   "display_name": "DeepOneClass2",
   "language": "python",
   "name": "deeponeclass2"
  },
  "language_info": {
   "codemirror_mode": {
    "name": "ipython",
    "version": 3
   },
   "file_extension": ".py",
   "mimetype": "text/x-python",
   "name": "python",
   "nbconvert_exporter": "python",
   "pygments_lexer": "ipython3",
   "version": "3.5.2"
  },
  "toc": {
   "colors": {
    "hover_highlight": "#DAA520",
    "navigate_num": "#000000",
    "navigate_text": "#333333",
    "running_highlight": "#FF0000",
    "selected_highlight": "#FFD700",
    "sidebar_border": "#EEEEEE",
    "wrapper_background": "#FFFFFF"
   },
   "moveMenuLeft": true,
   "nav_menu": {
    "height": "84px",
    "width": "252px"
   },
   "navigate_menu": true,
   "number_sections": true,
   "sideBar": true,
   "threshold": 4,
   "toc_cell": false,
   "toc_section_display": "block",
   "toc_window_display": false,
   "widenNotebook": false
  }
 },
 "nbformat": 4,
 "nbformat_minor": 2
}
