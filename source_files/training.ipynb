{
 "cells": [
  {
   "cell_type": "code",
   "execution_count": 1,
   "metadata": {},
   "outputs": [],
   "source": [
    "import os\n",
    "import numpy as np\n",
    "import pandas as pd\n",
    "import tensorflow as tf"
   ]
  },
  {
   "cell_type": "markdown",
   "metadata": {},
   "source": [
    "Link towards reporting gsheet document:\n",
    "https://docs.google.com/spreadsheets/d/1o0O9HGCUABQWF1C6uHw65veY9Axd3pATWwdG2WSpdf8/edit?usp=sharing"
   ]
  },
  {
   "cell_type": "code",
   "execution_count": 2,
   "metadata": {},
   "outputs": [],
   "source": [
    "# Parameters corresponding to gsheet file\n",
    "CLASS_NBR = 6\n",
    "MODE = \"cached\" # \"direct\" or \"cached\"\n",
    "KERNEL = \"linear\" # \"linear\" or \"rbf\"\n",
    "LR = 0.4\n",
    "C = 2"
   ]
  },
  {
   "cell_type": "code",
   "execution_count": 3,
   "metadata": {},
   "outputs": [],
   "source": [
    "# Local parameters\n",
    "BATCH_SIZE = 256\n",
    "CNN_OUTPUT_DIR = os.path.join(\"..\", \"tmp\", \"cnn_output\", \"VGG16\")\n",
    "TARGET_W = 224\n",
    "EPOCHS = 500\n",
    "MODEL_DIR_DIRECT = None#\"../tmp/estimator_svdd_naive_direct\"\n",
    "MODEL_DIR_CACHED = None#\"../tmp/estimator_svdd_naive_cached\""
   ]
  },
  {
   "cell_type": "markdown",
   "metadata": {},
   "source": [
    "# Input data"
   ]
  },
  {
   "cell_type": "code",
   "execution_count": 4,
   "metadata": {},
   "outputs": [
    {
     "data": {
      "text/plain": [
       "(<MapDataset shapes: (25088,), types: tf.float32>,\n",
       " <MapDataset shapes: ((25088,), <unknown>), types: (tf.float32, tf.int32)>,\n",
       " <MapDataset shapes: (224, 224, 3), types: tf.float32>,\n",
       " <MapDataset shapes: ((224, 224, 3), <unknown>), types: (tf.float32, tf.int32)>)"
      ]
     },
     "execution_count": 4,
     "metadata": {},
     "output_type": "execute_result"
    }
   ],
   "source": [
    "from data_utils import train_cnn_input_fn, test_cnn_input_fn, train_input_fn, test_input_fn\n",
    "\n",
    "# Sanity check\n",
    "train_cnn_input_fn(\n",
    "    CLASS_NBR,\n",
    "    CNN_OUTPUT_DIR\n",
    "), test_cnn_input_fn(\n",
    "    CLASS_NBR,\n",
    "    CNN_OUTPUT_DIR\n",
    "), train_input_fn(\n",
    "    CLASS_NBR,\n",
    "    TARGET_W\n",
    "), test_input_fn(\n",
    "    CLASS_NBR,\n",
    "    TARGET_W\n",
    ")"
   ]
  },
  {
   "cell_type": "markdown",
   "metadata": {},
   "source": [
    "# Training"
   ]
  },
  {
   "cell_type": "code",
   "execution_count": 5,
   "metadata": {},
   "outputs": [
    {
     "name": "stdout",
     "output_type": "stream",
     "text": [
      "INFO:tensorflow:Using default config.\n",
      "WARNING:tensorflow:Using temporary folder as model directory: /tmp/tmpdkyi15te\n",
      "INFO:tensorflow:Using config: {'_train_distribute': None, '_task_id': 0, '_log_step_count_steps': 100, '_save_checkpoints_secs': 600, '_model_dir': '/tmp/tmpdkyi15te', '_save_checkpoints_steps': None, '_global_id_in_cluster': 0, '_evaluation_master': '', '_num_worker_replicas': 1, '_save_summary_steps': 100, '_cluster_spec': <tensorflow.python.training.server_lib.ClusterSpec object at 0x7fe5742c0e80>, '_session_config': None, '_tf_random_seed': None, '_is_chief': True, '_master': '', '_task_type': 'worker', '_keep_checkpoint_max': 5, '_service': None, '_keep_checkpoint_every_n_hours': 10000, '_num_ps_replicas': 0}\n"
     ]
    }
   ],
   "source": [
    "from estimator_svdd_naive import OCClassifier as SVDDClassifier\n",
    "\n",
    "if MODE == \"cached\":\n",
    "    input_fn_train = lambda: train_cnn_input_fn(CLASS_NBR, CNN_OUTPUT_DIR).shuffle(1000).repeat().batch(BATCH_SIZE)\n",
    "    input_fn_test = lambda: test_cnn_input_fn(CLASS_NBR, CNN_OUTPUT_DIR).batch(BATCH_SIZE)\n",
    "    train_hooks = []\n",
    "    test_hooks = train_hooks\n",
    "    MODEL_DIR = MODEL_DIR_CACHED\n",
    "elif MODE == \"direct\":\n",
    "    from vgg_network import VGG_Network\n",
    "    from estimator_svdd_naive import _LoadPreTrainedWeightsVGG\n",
    "    from data_utils import run_dataset_through_network\n",
    "    \n",
    "    net = VGG_Network(include_FC_head=False)\n",
    "    \n",
    "    def get_train_dataset(net, reuse=False):\n",
    "        dataset = train_input_fn(CLASS_NBR, TARGET_W).batch(BATCH_SIZE)\n",
    "        dataset = run_dataset_through_network(dataset, net, reuse=reuse)\n",
    "        return dataset.repeat()\n",
    "    \n",
    "    def get_test_dataset(net, reuse=False):\n",
    "        dataset = test_input_fn(CLASS_NBR, TARGET_W).batch(BATCH_SIZE)\n",
    "        dataset = dataset.map(lambda img, label: img)\n",
    "        dataset = run_dataset_through_network(dataset, net, reuse=reuse)\n",
    "        return dataset\n",
    "    \n",
    "    input_fn_train = lambda: get_train_dataset(net, reuse=False)\n",
    "    input_fn_test = lambda: get_test_dataset(net, reuse=False)\n",
    "    train_hooks = [_LoadPreTrainedWeightsVGG(net)]\n",
    "    test_hooks = train_hooks\n",
    "    MODEL_DIR = MODEL_DIR_DIRECT\n",
    "else:\n",
    "    raise Exception(\"MODE unknown\")\n",
    "    \n",
    "classifier = SVDDClassifier(\n",
    "    c=C,\n",
    "    kernel=KERNEL,\n",
    "    learning_rate=LR,\n",
    "    model_dir=MODEL_DIR,\n",
    ")"
   ]
  },
  {
   "cell_type": "code",
   "execution_count": 6,
   "metadata": {
    "scrolled": false
   },
   "outputs": [
    {
     "name": "stdout",
     "output_type": "stream",
     "text": [
      "INFO:tensorflow:Calling model_fn.\n",
      "INFO:tensorflow:Done calling model_fn.\n",
      "INFO:tensorflow:Create CheckpointSaverHook.\n",
      "INFO:tensorflow:Graph was finalized.\n",
      "INFO:tensorflow:Running local_init_op.\n",
      "INFO:tensorflow:Done running local_init_op.\n",
      "INFO:tensorflow:Saving checkpoints for 1 into /tmp/tmpdkyi15te/model.ckpt.\n",
      "INFO:tensorflow:step = 0, loss = 1705851.1\n",
      "INFO:tensorflow:global_step/sec: 3.22045\n",
      "INFO:tensorflow:step = 100, loss = 226228.66 (31.050 sec)\n",
      "INFO:tensorflow:global_step/sec: 3.33615\n",
      "INFO:tensorflow:step = 200, loss = 202396.55 (29.973 sec)\n",
      "INFO:tensorflow:global_step/sec: 3.38385\n",
      "INFO:tensorflow:step = 300, loss = 181307.39 (29.550 sec)\n",
      "INFO:tensorflow:global_step/sec: 3.22275\n",
      "INFO:tensorflow:step = 400, loss = 153763.28 (31.030 sec)\n",
      "INFO:tensorflow:global_step/sec: 3.27486\n",
      "INFO:tensorflow:step = 500, loss = 123865.484 (30.535 sec)\n",
      "INFO:tensorflow:global_step/sec: 3.16828\n",
      "INFO:tensorflow:step = 600, loss = 124050.61 (31.563 sec)\n",
      "INFO:tensorflow:global_step/sec: 3.28251\n",
      "INFO:tensorflow:step = 700, loss = 122230.555 (30.464 sec)\n",
      "INFO:tensorflow:global_step/sec: 3.27556\n",
      "INFO:tensorflow:step = 800, loss = 123439.76 (30.535 sec)\n",
      "INFO:tensorflow:global_step/sec: 3.24005\n",
      "INFO:tensorflow:step = 900, loss = 122184.86 (30.860 sec)\n",
      "INFO:tensorflow:global_step/sec: 3.23867\n",
      "INFO:tensorflow:step = 1000, loss = 121991.09 (30.876 sec)\n",
      "INFO:tensorflow:global_step/sec: 3.2481\n",
      "INFO:tensorflow:step = 1100, loss = 123485.945 (30.786 sec)\n",
      "INFO:tensorflow:global_step/sec: 3.25296\n",
      "INFO:tensorflow:step = 1200, loss = 123996.68 (30.741 sec)\n",
      "INFO:tensorflow:global_step/sec: 3.23132\n",
      "INFO:tensorflow:step = 1300, loss = 122937.8 (30.950 sec)\n",
      "INFO:tensorflow:global_step/sec: 3.24593\n",
      "INFO:tensorflow:step = 1400, loss = 122474.44 (30.808 sec)\n",
      "INFO:tensorflow:global_step/sec: 3.18138\n",
      "INFO:tensorflow:step = 1500, loss = 120937.91 (31.433 sec)\n",
      "INFO:tensorflow:global_step/sec: 3.14219\n",
      "INFO:tensorflow:step = 1600, loss = 123408.45 (31.822 sec)\n",
      "INFO:tensorflow:Saving checkpoints for 1661 into /tmp/tmpdkyi15te/model.ckpt.\n",
      "INFO:tensorflow:Loss for final step: 125273.34.\n"
     ]
    },
    {
     "data": {
      "text/plain": [
       "<estimator_svdd_naive.OCClassifier at 0x7fe4ece45198>"
      ]
     },
     "execution_count": 6,
     "metadata": {},
     "output_type": "execute_result"
    }
   ],
   "source": [
    "classifier.train(\n",
    "    input_fn=input_fn_train,\n",
    "    steps=EPOCHS * 850 / BATCH_SIZE,\n",
    "    hooks=train_hooks\n",
    ")"
   ]
  },
  {
   "cell_type": "markdown",
   "metadata": {},
   "source": [
    "# Predicting"
   ]
  },
  {
   "cell_type": "code",
   "execution_count": 7,
   "metadata": {
    "scrolled": false
   },
   "outputs": [
    {
     "name": "stdout",
     "output_type": "stream",
     "text": [
      "INFO:tensorflow:Calling model_fn.\n",
      "INFO:tensorflow:Done calling model_fn.\n",
      "INFO:tensorflow:Graph was finalized.\n",
      "INFO:tensorflow:Restoring parameters from /tmp/tmpdkyi15te/model.ckpt-1661\n",
      "INFO:tensorflow:Running local_init_op.\n",
      "INFO:tensorflow:Done running local_init_op.\n"
     ]
    }
   ],
   "source": [
    "predictions = classifier.predict(\n",
    "    input_fn=input_fn_test,\n",
    "    hooks=test_hooks\n",
    ")\n",
    "\n",
    "predictions_list = list(predictions)\n",
    "predicted_scores = np.asarray(list(map(lambda p: p[\"predicted_scores\"], predictions_list))).astype(np.int32)\n",
    "predicted_classes = np.asarray(list(map(lambda p: p[\"predicted_classes\"], predictions_list))).astype(np.int32)"
   ]
  },
  {
   "cell_type": "code",
   "execution_count": 8,
   "metadata": {},
   "outputs": [
    {
     "data": {
      "text/plain": [
       "<matplotlib.axes._subplots.AxesSubplot at 0x7fe4a866ab38>"
      ]
     },
     "execution_count": 8,
     "metadata": {},
     "output_type": "execute_result"
    }
   ],
   "source": [
    "df = pd.DataFrame(predicted_classes)\n",
    "df.plot.hist()"
   ]
  },
  {
   "cell_type": "markdown",
   "metadata": {},
   "source": [
    "# Validation and metrics"
   ]
  },
  {
   "cell_type": "code",
   "execution_count": 9,
   "metadata": {},
   "outputs": [
    {
     "data": {
      "text/plain": [
       "(300,)"
      ]
     },
     "execution_count": 9,
     "metadata": {},
     "output_type": "execute_result"
    }
   ],
   "source": [
    "# Test set\n",
    "y_test = []\n",
    "input_fn = test_cnn_input_fn(CLASS_NBR, CNN_OUTPUT_DIR).batch(1)\n",
    "input_fn = input_fn.make_one_shot_iterator().get_next()\n",
    "sess = tf.Session()\n",
    "while True:\n",
    "    try:\n",
    "        data = sess.run(input_fn)\n",
    "        y_test.append(data[1][0])\n",
    "    except tf.errors.OutOfRangeError:\n",
    "        break\n",
    "y_test = np.asarray(y_test)\n",
    "y_test.shape"
   ]
  },
  {
   "cell_type": "code",
   "execution_count": 11,
   "metadata": {},
   "outputs": [
    {
     "name": "stdout",
     "output_type": "stream",
     "text": [
      "Confusion matrix, without normalization\n",
      "[[117  33]\n",
      " [ 83  67]]\n"
     ]
    },
    {
     "data": {
      "text/plain": [
       "Accuracy     0.613333\n",
       "Precision    0.670000\n",
       "Recall       0.446667\n",
       "f1-score     0.536000\n",
       "dtype: float64"
      ]
     },
     "execution_count": 11,
     "metadata": {},
     "output_type": "execute_result"
    },
    {
     "data": {
      "image/png": "[encoded data removed]",
      "text/plain": [
       "<Figure size 432x288 with 2 Axes>"
      ]
     },
     "metadata": {},
     "output_type": "display_data"
    }
   ],
   "source": [
    "from validation import evaluation_summary\n",
    "evaluation_summary(y_test, predicted_classes, plot_cm=True)"
   ]
  },
  {
   "cell_type": "code",
   "execution_count": null,
   "metadata": {},
   "outputs": [],
   "source": []
  },
  {
   "cell_type": "code",
   "execution_count": null,
   "metadata": {},
   "outputs": [],
   "source": []
  },
  {
   "cell_type": "code",
   "execution_count": null,
   "metadata": {},
   "outputs": [],
   "source": []
  },
  {
   "cell_type": "code",
   "execution_count": null,
   "metadata": {},
   "outputs": [],
   "source": []
  },
  {
   "cell_type": "code",
   "execution_count": null,
   "metadata": {},
   "outputs": [],
   "source": []
  }
 ],
 "metadata": {
  "kernelspec": {
   "display_name": "DeepOneClass2",
   "language": "python",
   "name": "deeponeclass2"
  },
  "language_info": {
   "codemirror_mode": {
    "name": "ipython",
    "version": 3
   },
   "file_extension": ".py",
   "mimetype": "text/x-python",
   "name": "python",
   "nbconvert_exporter": "python",
   "pygments_lexer": "ipython3",
   "version": "3.5.2"
  },
  "toc": {
   "colors": {
    "hover_highlight": "#DAA520",
    "navigate_num": "#000000",
    "navigate_text": "#333333",
    "running_highlight": "#FF0000",
    "selected_highlight": "#FFD700",
    "sidebar_border": "#EEEEEE",
    "wrapper_background": "#FFFFFF"
   },
   "moveMenuLeft": true,
   "nav_menu": {
    "height": "84px",
    "width": "252px"
   },
   "navigate_menu": true,
   "number_sections": true,
   "sideBar": true,
   "threshold": 4,
   "toc_cell": false,
   "toc_section_display": "block",
   "toc_window_display": false,
   "widenNotebook": false
  }
 },
 "nbformat": 4,
 "nbformat_minor": 2
}
