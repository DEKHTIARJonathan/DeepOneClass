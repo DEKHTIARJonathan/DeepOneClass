{
 "cells": [
  {
   "cell_type": "code",
   "execution_count": 1,
   "metadata": {},
   "outputs": [],
   "source": [
    "import os\n",
    "import numpy as np\n",
    "import pandas as pd\n",
    "import tensorflow as tf"
   ]
  },
  {
   "cell_type": "markdown",
   "metadata": {},
   "source": [
    "Link towards reporting gsheet document:\n",
    "https://docs.google.com/spreadsheets/d/1o0O9HGCUABQWF1C6uHw65veY9Axd3pATWwdG2WSpdf8/edit?usp=sharing"
   ]
  },
  {
   "cell_type": "code",
   "execution_count": 2,
   "metadata": {},
   "outputs": [],
   "source": [
    "# Parameters corresponding to gsheet file\n",
    "CLASS_NBR = 6\n",
    "MODE = \"cached\" # \"direct\" or \"cached\"\n",
    "KERNEL = \"linear\" # \"linear\" or \"rbf\"\n",
    "LR = 0.5\n",
    "C = 10"
   ]
  },
  {
   "cell_type": "code",
   "execution_count": 3,
   "metadata": {},
   "outputs": [],
   "source": [
    "# Local parameters\n",
    "BATCH_SIZE = 64\n",
    "CNN_OUTPUT_DIR = os.path.join(\"..\", \"tmp\", \"cnn_output\", \"VGG16\")\n",
    "TARGET_W = 224\n",
    "TRAIN_STEPS = 2000\n",
    "MODEL_DIR_DIRECT = None#\"../tmp/estimator_svdd_naive_direct\"\n",
    "MODEL_DIR_CACHED = None#\"../tmp/estimator_svdd_naive_cached\""
   ]
  },
  {
   "cell_type": "markdown",
   "metadata": {},
   "source": [
    "# Input data"
   ]
  },
  {
   "cell_type": "code",
   "execution_count": 4,
   "metadata": {},
   "outputs": [
    {
     "data": {
      "text/plain": [
       "(<MapDataset shapes: (25088,), types: tf.float32>,\n",
       " <MapDataset shapes: ((25088,), <unknown>), types: (tf.float32, tf.int32)>,\n",
       " <MapDataset shapes: (224, 224, 3), types: tf.float32>,\n",
       " <MapDataset shapes: ((224, 224, 3), <unknown>), types: (tf.float32, tf.int32)>)"
      ]
     },
     "execution_count": 4,
     "metadata": {},
     "output_type": "execute_result"
    }
   ],
   "source": [
    "from data_utils import train_cnn_input_fn, test_cnn_input_fn, train_input_fn, test_input_fn\n",
    "\n",
    "# Sanity check\n",
    "train_cnn_input_fn(\n",
    "    CLASS_NBR,\n",
    "    CNN_OUTPUT_DIR\n",
    "), test_cnn_input_fn(\n",
    "    CLASS_NBR,\n",
    "    CNN_OUTPUT_DIR\n",
    "), train_input_fn(\n",
    "    CLASS_NBR,\n",
    "    TARGET_W\n",
    "), test_input_fn(\n",
    "    CLASS_NBR,\n",
    "    TARGET_W\n",
    ")"
   ]
  },
  {
   "cell_type": "markdown",
   "metadata": {},
   "source": [
    "# Training"
   ]
  },
  {
   "cell_type": "code",
   "execution_count": 5,
   "metadata": {},
   "outputs": [
    {
     "name": "stdout",
     "output_type": "stream",
     "text": [
      "INFO:tensorflow:Using default config.\n",
      "WARNING:tensorflow:Using temporary folder as model directory: /tmp/tmp8zau5t5i\n",
      "INFO:tensorflow:Using config: {'_master': '', '_task_type': 'worker', '_keep_checkpoint_max': 5, '_global_id_in_cluster': 0, '_num_ps_replicas': 0, '_save_checkpoints_steps': None, '_evaluation_master': '', '_train_distribute': None, '_service': None, '_log_step_count_steps': 100, '_tf_random_seed': None, '_num_worker_replicas': 1, '_save_summary_steps': 100, '_model_dir': '/tmp/tmp8zau5t5i', '_session_config': None, '_task_id': 0, '_is_chief': True, '_cluster_spec': <tensorflow.python.training.server_lib.ClusterSpec object at 0x7fd20e86de80>, '_save_checkpoints_secs': 600, '_keep_checkpoint_every_n_hours': 10000}\n"
     ]
    }
   ],
   "source": [
    "from estimator_svdd_naive import OCClassifier as SVDDClassifier\n",
    "\n",
    "if MODE == \"cached\":\n",
    "    input_fn_train = lambda: train_cnn_input_fn(CLASS_NBR, CNN_OUTPUT_DIR).batch(BATCH_SIZE).repeat()\n",
    "    input_fn_test = lambda: test_cnn_input_fn(CLASS_NBR, CNN_OUTPUT_DIR).batch(BATCH_SIZE)\n",
    "    train_hooks = []\n",
    "    test_hooks = train_hooks\n",
    "    MODEL_DIR = MODEL_DIR_CACHED\n",
    "elif MODE == \"direct\":\n",
    "    from vgg_network import VGG_Network\n",
    "    from estimator_svdd_naive import _LoadPreTrainedWeightsVGG\n",
    "    from data_utils import run_dataset_through_network\n",
    "    \n",
    "    net = VGG_Network(include_FC_head=False)\n",
    "    \n",
    "    def get_train_dataset(net, reuse=False):\n",
    "        dataset = train_input_fn(CLASS_NBR, TARGET_W).batch(BATCH_SIZE)\n",
    "        dataset = run_dataset_through_network(dataset, net, reuse=reuse)\n",
    "        return dataset.repeat()\n",
    "    \n",
    "    def get_test_dataset(net, reuse=False):\n",
    "        dataset = test_input_fn(CLASS_NBR, TARGET_W).batch(BATCH_SIZE)\n",
    "        dataset = dataset.map(lambda img, label: img)\n",
    "        dataset = run_dataset_through_network(dataset, net, reuse=reuse)\n",
    "        return dataset\n",
    "    \n",
    "    input_fn_train = lambda: get_train_dataset(net, reuse=False)\n",
    "    input_fn_test = lambda: get_test_dataset(net, reuse=False)\n",
    "    train_hooks = [_LoadPreTrainedWeightsVGG(net)]\n",
    "    test_hooks = train_hooks\n",
    "    MODEL_DIR = MODEL_DIR_DIRECT\n",
    "else:\n",
    "    raise Exception(\"MODE unknown\")\n",
    "    \n",
    "classifier = SVDDClassifier(\n",
    "    c=C,\n",
    "    kernel=KERNEL,\n",
    "    learning_rate=LR,\n",
    "    model_dir=MODEL_DIR,\n",
    ")"
   ]
  },
  {
   "cell_type": "code",
   "execution_count": 6,
   "metadata": {
    "scrolled": false
   },
   "outputs": [
    {
     "name": "stdout",
     "output_type": "stream",
     "text": [
      "INFO:tensorflow:Calling model_fn.\n",
      "INFO:tensorflow:Done calling model_fn.\n",
      "INFO:tensorflow:Create CheckpointSaverHook.\n",
      "INFO:tensorflow:Graph was finalized.\n",
      "INFO:tensorflow:Running local_init_op.\n",
      "INFO:tensorflow:Done running local_init_op.\n",
      "INFO:tensorflow:Saving checkpoints for 1 into /tmp/tmp8zau5t5i/model.ckpt.\n",
      "INFO:tensorflow:loss = 8570081.0, step = 0\n",
      "INFO:tensorflow:global_step/sec: 15.6823\n",
      "INFO:tensorflow:loss = 907786.75, step = 100 (6.377 sec)\n",
      "INFO:tensorflow:global_step/sec: 16.0575\n",
      "INFO:tensorflow:loss = 257784.75, step = 200 (6.228 sec)\n",
      "INFO:tensorflow:global_step/sec: 15.2789\n",
      "INFO:tensorflow:loss = 164016.36, step = 300 (6.545 sec)\n",
      "INFO:tensorflow:global_step/sec: 15.7808\n",
      "INFO:tensorflow:loss = 143822.67, step = 400 (6.338 sec)\n",
      "INFO:tensorflow:global_step/sec: 14.7705\n",
      "INFO:tensorflow:loss = 147894.61, step = 500 (6.769 sec)\n",
      "INFO:tensorflow:global_step/sec: 15.8461\n",
      "INFO:tensorflow:loss = 141166.81, step = 600 (6.313 sec)\n",
      "INFO:tensorflow:global_step/sec: 14.5107\n",
      "INFO:tensorflow:loss = 139698.11, step = 700 (6.890 sec)\n",
      "INFO:tensorflow:global_step/sec: 15.4566\n",
      "INFO:tensorflow:loss = 140940.72, step = 800 (6.470 sec)\n",
      "INFO:tensorflow:global_step/sec: 16.2022\n",
      "INFO:tensorflow:loss = 142680.64, step = 900 (6.173 sec)\n",
      "INFO:tensorflow:global_step/sec: 15.3669\n",
      "INFO:tensorflow:loss = 162380.38, step = 1000 (6.506 sec)\n",
      "INFO:tensorflow:global_step/sec: 16.3655\n",
      "INFO:tensorflow:loss = 144361.31, step = 1100 (6.111 sec)\n",
      "INFO:tensorflow:global_step/sec: 16.2231\n",
      "INFO:tensorflow:loss = 148425.23, step = 1200 (6.164 sec)\n",
      "INFO:tensorflow:global_step/sec: 15.8821\n",
      "INFO:tensorflow:loss = 141875.94, step = 1300 (6.296 sec)\n",
      "INFO:tensorflow:global_step/sec: 15.3113\n",
      "INFO:tensorflow:loss = 140258.05, step = 1400 (6.532 sec)\n",
      "INFO:tensorflow:global_step/sec: 15.2477\n",
      "INFO:tensorflow:loss = 141718.52, step = 1500 (6.557 sec)\n",
      "INFO:tensorflow:global_step/sec: 14.7079\n",
      "INFO:tensorflow:loss = 143278.94, step = 1600 (6.800 sec)\n",
      "INFO:tensorflow:global_step/sec: 15.9658\n",
      "INFO:tensorflow:loss = 162818.38, step = 1700 (6.263 sec)\n",
      "INFO:tensorflow:global_step/sec: 15.6752\n",
      "INFO:tensorflow:loss = 144931.92, step = 1800 (6.381 sec)\n",
      "INFO:tensorflow:global_step/sec: 15.5489\n",
      "INFO:tensorflow:loss = 149016.19, step = 1900 (6.430 sec)\n",
      "INFO:tensorflow:Saving checkpoints for 2000 into /tmp/tmp8zau5t5i/model.ckpt.\n",
      "INFO:tensorflow:Loss for final step: 139710.88.\n"
     ]
    },
    {
     "data": {
      "text/plain": [
       "<estimator_svdd_naive.OCClassifier at 0x7fd1841c40f0>"
      ]
     },
     "execution_count": 6,
     "metadata": {},
     "output_type": "execute_result"
    }
   ],
   "source": [
    "classifier.train(\n",
    "    input_fn=input_fn_train,\n",
    "    steps=TRAIN_STEPS,\n",
    "    hooks=train_hooks\n",
    ")"
   ]
  },
  {
   "cell_type": "markdown",
   "metadata": {},
   "source": [
    "# Predicting"
   ]
  },
  {
   "cell_type": "code",
   "execution_count": 7,
   "metadata": {
    "scrolled": false
   },
   "outputs": [
    {
     "name": "stdout",
     "output_type": "stream",
     "text": [
      "INFO:tensorflow:Calling model_fn.\n",
      "INFO:tensorflow:Done calling model_fn.\n",
      "INFO:tensorflow:Graph was finalized.\n",
      "INFO:tensorflow:Restoring parameters from /tmp/tmp8zau5t5i/model.ckpt-2000\n",
      "INFO:tensorflow:Running local_init_op.\n",
      "INFO:tensorflow:Done running local_init_op.\n"
     ]
    }
   ],
   "source": [
    "predictions = classifier.predict(\n",
    "    input_fn=input_fn_test,\n",
    "    hooks=test_hooks\n",
    ")\n",
    "\n",
    "predictions_list = list(predictions)\n",
    "predicted_scores = np.asarray(list(map(lambda p: p[\"predicted_scores\"], predictions_list))).astype(np.int32)\n",
    "predicted_classes = np.asarray(list(map(lambda p: p[\"predicted_classes\"], predictions_list))).astype(np.int32)"
   ]
  },
  {
   "cell_type": "code",
   "execution_count": 8,
   "metadata": {},
   "outputs": [
    {
     "data": {
      "text/plain": [
       "<matplotlib.axes._subplots.AxesSubplot at 0x7fd141808ac8>"
      ]
     },
     "execution_count": 8,
     "metadata": {},
     "output_type": "execute_result"
    }
   ],
   "source": [
    "df = pd.DataFrame(predicted_classes)\n",
    "df.plot.hist()"
   ]
  },
  {
   "cell_type": "markdown",
   "metadata": {},
   "source": [
    "# Validation and metrics"
   ]
  },
  {
   "cell_type": "code",
   "execution_count": 9,
   "metadata": {},
   "outputs": [
    {
     "data": {
      "text/plain": [
       "(300,)"
      ]
     },
     "execution_count": 9,
     "metadata": {},
     "output_type": "execute_result"
    }
   ],
   "source": [
    "# Test set\n",
    "y_test = []\n",
    "input_fn = test_cnn_input_fn(CLASS_NBR, CNN_OUTPUT_DIR).batch(1)\n",
    "input_fn = input_fn.make_one_shot_iterator().get_next()\n",
    "sess = tf.Session()\n",
    "while True:\n",
    "    try:\n",
    "        data = sess.run(input_fn)\n",
    "        y_test.append(data[1][0])\n",
    "    except tf.errors.OutOfRangeError:\n",
    "        break\n",
    "y_test = np.asarray(y_test)\n",
    "y_test.shape"
   ]
  },
  {
   "cell_type": "code",
   "execution_count": 10,
   "metadata": {},
   "outputs": [
    {
     "name": "stdout",
     "output_type": "stream",
     "text": [
      "Normalized confusion matrix\n",
      "[[0.32666667 0.67333333]\n",
      " [0.12666667 0.87333333]]\n"
     ]
    },
    {
     "data": {
      "text/plain": [
       "Accuracy     0.600000\n",
       "Precision    0.564655\n",
       "Recall       0.873333\n",
       "f1-score     0.685864\n",
       "dtype: float64"
      ]
     },
     "execution_count": 10,
     "metadata": {},
     "output_type": "execute_result"
    },
    {
     "data": {
      "image/png": "[encoded data removed]",
      "text/plain": [
       "<Figure size 432x288 with 2 Axes>"
      ]
     },
     "metadata": {},
     "output_type": "display_data"
    }
   ],
   "source": [
    "from validation import evaluation_summary\n",
    "evaluation_summary(y_test, predicted_classes, plot_cm=True)"
   ]
  },
  {
   "cell_type": "code",
   "execution_count": null,
   "metadata": {},
   "outputs": [],
   "source": []
  },
  {
   "cell_type": "code",
   "execution_count": null,
   "metadata": {},
   "outputs": [],
   "source": []
  },
  {
   "cell_type": "code",
   "execution_count": null,
   "metadata": {},
   "outputs": [],
   "source": []
  },
  {
   "cell_type": "code",
   "execution_count": null,
   "metadata": {},
   "outputs": [],
   "source": []
  }
 ],
 "metadata": {
  "kernelspec": {
   "display_name": "DeepOneClass2",
   "language": "python",
   "name": "deeponeclass2"
  },
  "language_info": {
   "codemirror_mode": {
    "name": "ipython",
    "version": 3
   },
   "file_extension": ".py",
   "mimetype": "text/x-python",
   "name": "python",
   "nbconvert_exporter": "python",
   "pygments_lexer": "ipython3",
   "version": "3.5.2"
  },
  "toc": {
   "colors": {
    "hover_highlight": "#DAA520",
    "navigate_num": "#000000",
    "navigate_text": "#333333",
    "running_highlight": "#FF0000",
    "selected_highlight": "#FFD700",
    "sidebar_border": "#EEEEEE",
    "wrapper_background": "#FFFFFF"
   },
   "moveMenuLeft": true,
   "nav_menu": {
    "height": "84px",
    "width": "252px"
   },
   "navigate_menu": true,
   "number_sections": true,
   "sideBar": true,
   "threshold": 4,
   "toc_cell": false,
   "toc_section_display": "block",
   "toc_window_display": false,
   "widenNotebook": false
  }
 },
 "nbformat": 4,
 "nbformat_minor": 2
}
