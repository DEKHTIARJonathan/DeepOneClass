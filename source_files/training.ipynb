{
 "cells": [
  {
   "cell_type": "code",
   "execution_count": 1,
   "metadata": {},
   "outputs": [
    {
     "name": "stderr",
     "output_type": "stream",
     "text": [
      "/Users/Sylvain/.pyenv/versions/3.6.4/lib/python3.6/site-packages/h5py/__init__.py:36: FutureWarning: Conversion of the second argument of issubdtype from `float` to `np.floating` is deprecated. In future, it will be treated as `np.float64 == np.dtype(float).type`.\n",
      "  from ._conv import register_converters as _register_converters\n"
     ]
    }
   ],
   "source": [
    "import os\n",
    "import numpy as np\n",
    "import pandas as pd\n",
    "import tensorflow as tf"
   ]
  },
  {
   "cell_type": "markdown",
   "metadata": {},
   "source": [
    "Link towards reporting gsheet document:\n",
    "https://docs.google.com/spreadsheets/d/1o0O9HGCUABQWF1C6uHw65veY9Axd3pATWwdG2WSpdf8/edit?usp=sharing"
   ]
  },
  {
   "cell_type": "code",
   "execution_count": 2,
   "metadata": {},
   "outputs": [],
   "source": [
    "# Parameters corresponding to gsheet file\n",
    "CLASS_NBR = 6\n",
    "MODE = \"cached\" # \"direct\" or \"cached\"\n",
    "KERNEL = \"linear\" # \"linear\" or \"rbf\"\n",
    "LR = 0.1\n",
    "BATCH_SIZE = 64\n",
    "C = 3\n",
    "EPOCHS = 1000"
   ]
  },
  {
   "cell_type": "code",
   "execution_count": 3,
   "metadata": {},
   "outputs": [],
   "source": [
    "# Local parameters\n",
    "N_TRAIN = 850\n",
    "CNN_OUTPUT_DIR = os.path.join(\"..\", \"tmp\", \"cnn_output\", \"VGG16\")\n",
    "TARGET_W = 224\n",
    "MODEL_DIR_DIRECT = None#\"../tmp/estimator_svdd_direct\"\n",
    "MODEL_DIR_CACHED = None#\"../tmp/estimator_svdd_cached\""
   ]
  },
  {
   "cell_type": "markdown",
   "metadata": {},
   "source": [
    "# Input data"
   ]
  },
  {
   "cell_type": "code",
   "execution_count": 4,
   "metadata": {},
   "outputs": [
    {
     "data": {
      "text/plain": [
       "(<MapDataset shapes: (25088,), types: tf.float32>,\n",
       " <MapDataset shapes: ((25088,), <unknown>), types: (tf.float32, tf.int32)>,\n",
       " <MapDataset shapes: (224, 224, 3), types: tf.float32>,\n",
       " <MapDataset shapes: ((224, 224, 3), <unknown>), types: (tf.float32, tf.int32)>)"
      ]
     },
     "execution_count": 4,
     "metadata": {},
     "output_type": "execute_result"
    }
   ],
   "source": [
    "from data_utils import train_cnn_input_fn, test_cnn_input_fn, train_input_fn, test_input_fn\n",
    "\n",
    "# Sanity check\n",
    "train_cnn_input_fn(\n",
    "    CLASS_NBR,\n",
    "    CNN_OUTPUT_DIR\n",
    "), test_cnn_input_fn(\n",
    "    CLASS_NBR,\n",
    "    CNN_OUTPUT_DIR\n",
    "), train_input_fn(\n",
    "    CLASS_NBR,\n",
    "    TARGET_W\n",
    "), test_input_fn(\n",
    "    CLASS_NBR,\n",
    "    TARGET_W\n",
    ")"
   ]
  },
  {
   "cell_type": "markdown",
   "metadata": {},
   "source": [
    "# Training"
   ]
  },
  {
   "cell_type": "code",
   "execution_count": 5,
   "metadata": {},
   "outputs": [
    {
     "name": "stdout",
     "output_type": "stream",
     "text": [
      "INFO:tensorflow:Using default config.\n",
      "WARNING:tensorflow:Using temporary folder as model directory: /var/folders/_f/7t_whmpx0zn2ln3npht19g8h0000gn/T/tmp7ce5u856\n",
      "INFO:tensorflow:Using config: {'_model_dir': '/var/folders/_f/7t_whmpx0zn2ln3npht19g8h0000gn/T/tmp7ce5u856', '_tf_random_seed': None, '_save_summary_steps': 100, '_save_checkpoints_steps': None, '_save_checkpoints_secs': 600, '_session_config': None, '_keep_checkpoint_max': 5, '_keep_checkpoint_every_n_hours': 10000, '_log_step_count_steps': 100, '_train_distribute': None, '_service': None, '_cluster_spec': <tensorflow.python.training.server_lib.ClusterSpec object at 0x1155a32b0>, '_task_type': 'worker', '_task_id': 0, '_global_id_in_cluster': 0, '_master': '', '_evaluation_master': '', '_is_chief': True, '_num_ps_replicas': 0, '_num_worker_replicas': 1}\n"
     ]
    }
   ],
   "source": [
    "from estimator_svdd import SVDDClassifier as SVDDClassifier\n",
    "\n",
    "if MODE == \"cached\":\n",
    "    input_fn_train = lambda: train_cnn_input_fn(CLASS_NBR, CNN_OUTPUT_DIR).shuffle(1000).repeat().batch(BATCH_SIZE)\n",
    "    input_fn_test = lambda: test_cnn_input_fn(CLASS_NBR, CNN_OUTPUT_DIR).batch(BATCH_SIZE)\n",
    "    train_hooks = []\n",
    "    test_hooks = train_hooks\n",
    "    MODEL_DIR = MODEL_DIR_CACHED\n",
    "elif MODE == \"direct\":\n",
    "    from vgg_network import VGG_Network\n",
    "    from data_utils import _LoadPreTrainedWeights\n",
    "    from data_utils import run_dataset_through_network\n",
    "    \n",
    "    net = VGG_Network(include_FC_head=False)\n",
    "    \n",
    "    def get_train_dataset(net, reuse=False):\n",
    "        dataset = train_input_fn(CLASS_NBR, TARGET_W).batch(BATCH_SIZE)\n",
    "        dataset = run_dataset_through_network(dataset, net, reuse=reuse)\n",
    "        return dataset.repeat()\n",
    "    \n",
    "    def get_test_dataset(net, reuse=False):\n",
    "        dataset = test_input_fn(CLASS_NBR, TARGET_W).batch(BATCH_SIZE)\n",
    "        dataset = dataset.map(lambda img, label: img)\n",
    "        dataset = run_dataset_through_network(dataset, net, reuse=reuse)\n",
    "        return dataset\n",
    "    \n",
    "    input_fn_train = lambda: get_train_dataset(net, reuse=False)\n",
    "    input_fn_test = lambda: get_test_dataset(net, reuse=False)\n",
    "    train_hooks = [_LoadPreTrainedWeights(net)]\n",
    "    test_hooks = train_hooks\n",
    "    MODEL_DIR = MODEL_DIR_DIRECT\n",
    "else:\n",
    "    raise Exception(\"MODE unknown\")\n",
    "    \n",
    "classifier = SVDDClassifier(\n",
    "    c=C,\n",
    "    kernel=KERNEL,\n",
    "    learning_rate=LR,\n",
    "    model_dir=MODEL_DIR,\n",
    ")"
   ]
  },
  {
   "cell_type": "code",
   "execution_count": 6,
   "metadata": {
    "scrolled": false
   },
   "outputs": [
    {
     "name": "stdout",
     "output_type": "stream",
     "text": [
      "INFO:tensorflow:Calling model_fn.\n",
      "INFO:tensorflow:Done calling model_fn.\n",
      "INFO:tensorflow:Create CheckpointSaverHook.\n",
      "INFO:tensorflow:Graph was finalized.\n",
      "INFO:tensorflow:Running local_init_op.\n",
      "INFO:tensorflow:Done running local_init_op.\n",
      "INFO:tensorflow:Saving checkpoints for 1 into /var/folders/_f/7t_whmpx0zn2ln3npht19g8h0000gn/T/tmp7ce5u856/model.ckpt.\n",
      "INFO:tensorflow:loss = 2574568.2, step = 1\n",
      "INFO:tensorflow:global_step/sec: 10.9435\n",
      "INFO:tensorflow:loss = 533241.94, step = 101 (9.139 sec)\n",
      "INFO:tensorflow:global_step/sec: 10.6169\n",
      "INFO:tensorflow:loss = 406235.9, step = 201 (9.420 sec)\n",
      "INFO:tensorflow:global_step/sec: 11.7292\n",
      "INFO:tensorflow:loss = 355632.1, step = 301 (8.525 sec)\n",
      "INFO:tensorflow:global_step/sec: 10.2821\n",
      "INFO:tensorflow:loss = 338309.47, step = 401 (9.726 sec)\n",
      "INFO:tensorflow:global_step/sec: 11.4281\n",
      "INFO:tensorflow:loss = 329084.12, step = 501 (8.750 sec)\n",
      "INFO:tensorflow:global_step/sec: 10.3376\n",
      "INFO:tensorflow:loss = 317265.3, step = 601 (9.673 sec)\n",
      "INFO:tensorflow:global_step/sec: 11.5109\n",
      "INFO:tensorflow:loss = 313459.97, step = 701 (8.688 sec)\n",
      "INFO:tensorflow:global_step/sec: 10.3651\n",
      "INFO:tensorflow:loss = 300578.44, step = 801 (9.648 sec)\n",
      "INFO:tensorflow:global_step/sec: 11.7343\n",
      "INFO:tensorflow:loss = 280390.8, step = 901 (8.522 sec)\n",
      "INFO:tensorflow:global_step/sec: 10.5111\n",
      "INFO:tensorflow:loss = 277487.56, step = 1001 (9.514 sec)\n",
      "INFO:tensorflow:global_step/sec: 11.3835\n",
      "INFO:tensorflow:loss = 274851.72, step = 1101 (8.785 sec)\n",
      "INFO:tensorflow:global_step/sec: 10.1044\n",
      "INFO:tensorflow:loss = 252558.34, step = 1201 (9.897 sec)\n",
      "INFO:tensorflow:global_step/sec: 9.30146\n",
      "INFO:tensorflow:loss = 247456.84, step = 1301 (10.751 sec)\n",
      "INFO:tensorflow:global_step/sec: 10.0574\n",
      "INFO:tensorflow:loss = 229289.25, step = 1401 (9.943 sec)\n",
      "INFO:tensorflow:global_step/sec: 10.1239\n",
      "INFO:tensorflow:loss = 217132.69, step = 1501 (9.877 sec)\n",
      "INFO:tensorflow:global_step/sec: 11.4058\n",
      "INFO:tensorflow:loss = 198498.19, step = 1601 (8.768 sec)\n",
      "INFO:tensorflow:global_step/sec: 10.4345\n",
      "INFO:tensorflow:loss = 201454.22, step = 1701 (9.583 sec)\n",
      "INFO:tensorflow:global_step/sec: 11.7545\n",
      "INFO:tensorflow:loss = 178371.86, step = 1801 (8.508 sec)\n",
      "INFO:tensorflow:global_step/sec: 10.6268\n",
      "INFO:tensorflow:loss = 154620.48, step = 1901 (9.410 sec)\n",
      "INFO:tensorflow:global_step/sec: 11.8071\n",
      "INFO:tensorflow:loss = 148755.75, step = 2001 (8.470 sec)\n",
      "INFO:tensorflow:global_step/sec: 10.6702\n",
      "INFO:tensorflow:loss = 136891.66, step = 2101 (9.372 sec)\n",
      "INFO:tensorflow:global_step/sec: 11.7773\n",
      "INFO:tensorflow:loss = 138061.88, step = 2201 (8.491 sec)\n",
      "INFO:tensorflow:global_step/sec: 9.96291\n",
      "INFO:tensorflow:loss = 131544.55, step = 2301 (10.037 sec)\n",
      "INFO:tensorflow:global_step/sec: 10.6516\n",
      "INFO:tensorflow:loss = 130054.086, step = 2401 (9.389 sec)\n",
      "INFO:tensorflow:global_step/sec: 10.169\n",
      "INFO:tensorflow:loss = 130390.836, step = 2501 (9.834 sec)\n",
      "INFO:tensorflow:global_step/sec: 11.5519\n",
      "INFO:tensorflow:loss = 131795.39, step = 2601 (8.657 sec)\n",
      "INFO:tensorflow:global_step/sec: 10.4157\n",
      "INFO:tensorflow:loss = 133281.38, step = 2701 (9.601 sec)\n",
      "INFO:tensorflow:global_step/sec: 11.3185\n",
      "INFO:tensorflow:loss = 124684.42, step = 2801 (8.835 sec)\n",
      "INFO:tensorflow:global_step/sec: 10.5657\n",
      "INFO:tensorflow:loss = 136396.94, step = 2901 (9.465 sec)\n",
      "INFO:tensorflow:global_step/sec: 11.4478\n",
      "INFO:tensorflow:loss = 131350.47, step = 3001 (8.735 sec)\n",
      "INFO:tensorflow:global_step/sec: 10.3928\n",
      "INFO:tensorflow:loss = 130386.19, step = 3101 (9.622 sec)\n",
      "INFO:tensorflow:global_step/sec: 10.3357\n",
      "INFO:tensorflow:loss = 131063.91, step = 3201 (9.675 sec)\n",
      "INFO:tensorflow:global_step/sec: 11.5073\n",
      "INFO:tensorflow:loss = 129956.945, step = 3301 (8.691 sec)\n",
      "INFO:tensorflow:global_step/sec: 10.6592\n",
      "INFO:tensorflow:loss = 125771.89, step = 3401 (9.381 sec)\n",
      "INFO:tensorflow:global_step/sec: 11.7889\n",
      "INFO:tensorflow:loss = 126709.62, step = 3501 (8.483 sec)\n",
      "INFO:tensorflow:global_step/sec: 10.6578\n",
      "INFO:tensorflow:loss = 127431.44, step = 3601 (9.383 sec)\n",
      "INFO:tensorflow:global_step/sec: 11.8032\n",
      "INFO:tensorflow:loss = 127524.71, step = 3701 (8.472 sec)\n",
      "INFO:tensorflow:global_step/sec: 10.6206\n",
      "INFO:tensorflow:loss = 130568.695, step = 3801 (9.416 sec)\n",
      "INFO:tensorflow:global_step/sec: 11.7568\n",
      "INFO:tensorflow:loss = 128775.47, step = 3901 (8.506 sec)\n",
      "INFO:tensorflow:global_step/sec: 10.7082\n",
      "INFO:tensorflow:loss = 130861.42, step = 4001 (9.339 sec)\n",
      "INFO:tensorflow:global_step/sec: 11.8459\n",
      "INFO:tensorflow:loss = 124107.055, step = 4101 (8.441 sec)\n",
      "INFO:tensorflow:global_step/sec: 10.6771\n",
      "INFO:tensorflow:loss = 130024.15, step = 4201 (9.366 sec)\n",
      "INFO:tensorflow:global_step/sec: 11.8405\n",
      "INFO:tensorflow:loss = 125950.45, step = 4301 (8.445 sec)\n",
      "INFO:tensorflow:global_step/sec: 10.6705\n",
      "INFO:tensorflow:loss = 125832.91, step = 4401 (9.371 sec)\n",
      "INFO:tensorflow:global_step/sec: 11.8513\n",
      "INFO:tensorflow:loss = 127539.38, step = 4501 (8.438 sec)\n",
      "INFO:tensorflow:global_step/sec: 10.7171\n",
      "INFO:tensorflow:loss = 123338.36, step = 4601 (9.331 sec)\n",
      "INFO:tensorflow:global_step/sec: 11.8454\n",
      "INFO:tensorflow:loss = 126197.32, step = 4701 (8.442 sec)\n",
      "INFO:tensorflow:global_step/sec: 10.6411\n",
      "INFO:tensorflow:loss = 131426.6, step = 4801 (9.398 sec)\n",
      "INFO:tensorflow:global_step/sec: 10.1465\n",
      "INFO:tensorflow:loss = 128031.31, step = 4901 (9.855 sec)\n",
      "INFO:tensorflow:global_step/sec: 11.3207\n",
      "INFO:tensorflow:loss = 128626.28, step = 5001 (8.834 sec)\n",
      "INFO:tensorflow:global_step/sec: 10.4166\n",
      "INFO:tensorflow:loss = 126318.7, step = 5101 (9.600 sec)\n",
      "INFO:tensorflow:global_step/sec: 11.6768\n",
      "INFO:tensorflow:loss = 124112.88, step = 5201 (8.564 sec)\n",
      "INFO:tensorflow:global_step/sec: 10.4181\n",
      "INFO:tensorflow:loss = 127720.336, step = 5301 (9.599 sec)\n",
      "INFO:tensorflow:global_step/sec: 11.8342\n",
      "INFO:tensorflow:loss = 126344.984, step = 5401 (8.450 sec)\n",
      "INFO:tensorflow:global_step/sec: 10.2831\n",
      "INFO:tensorflow:loss = 130856.36, step = 5501 (9.724 sec)\n",
      "INFO:tensorflow:global_step/sec: 10.8368\n",
      "INFO:tensorflow:loss = 125662.12, step = 5601 (9.228 sec)\n",
      "INFO:tensorflow:global_step/sec: 10.4463\n",
      "INFO:tensorflow:loss = 129797.09, step = 5701 (9.573 sec)\n",
      "INFO:tensorflow:global_step/sec: 11.621\n",
      "INFO:tensorflow:loss = 131136.88, step = 5801 (8.605 sec)\n",
      "INFO:tensorflow:global_step/sec: 9.92414\n",
      "INFO:tensorflow:loss = 126901.62, step = 5901 (10.077 sec)\n",
      "INFO:tensorflow:global_step/sec: 11.5248\n",
      "INFO:tensorflow:loss = 129307.66, step = 6001 (8.677 sec)\n",
      "INFO:tensorflow:global_step/sec: 10.5641\n",
      "INFO:tensorflow:loss = 133261.05, step = 6101 (9.466 sec)\n",
      "INFO:tensorflow:global_step/sec: 11.4123\n",
      "INFO:tensorflow:loss = 126764.2, step = 6201 (8.763 sec)\n",
      "INFO:tensorflow:global_step/sec: 10.1316\n",
      "INFO:tensorflow:loss = 128143.99, step = 6301 (9.871 sec)\n",
      "INFO:tensorflow:global_step/sec: 10.8567\n",
      "INFO:tensorflow:loss = 126256.76, step = 6401 (9.210 sec)\n",
      "INFO:tensorflow:global_step/sec: 10.0432\n",
      "INFO:tensorflow:loss = 126875.43, step = 6501 (9.957 sec)\n",
      "INFO:tensorflow:Saving checkpoints for 6522 into /var/folders/_f/7t_whmpx0zn2ln3npht19g8h0000gn/T/tmp7ce5u856/model.ckpt.\n",
      "INFO:tensorflow:global_step/sec: 10.3137\n",
      "INFO:tensorflow:loss = 132363.58, step = 6601 (9.696 sec)\n",
      "INFO:tensorflow:global_step/sec: 11.4554\n",
      "INFO:tensorflow:loss = 121977.32, step = 6701 (8.730 sec)\n",
      "INFO:tensorflow:global_step/sec: 10.1228\n",
      "INFO:tensorflow:loss = 132572.11, step = 6801 (9.879 sec)\n",
      "INFO:tensorflow:global_step/sec: 11.3236\n",
      "INFO:tensorflow:loss = 132128.78, step = 6901 (8.831 sec)\n",
      "INFO:tensorflow:global_step/sec: 9.91451\n",
      "INFO:tensorflow:loss = 126463.53, step = 7001 (10.086 sec)\n",
      "INFO:tensorflow:global_step/sec: 11.3947\n",
      "INFO:tensorflow:loss = 127738.08, step = 7101 (8.776 sec)\n",
      "INFO:tensorflow:global_step/sec: 10.2895\n",
      "INFO:tensorflow:loss = 124251.13, step = 7201 (9.719 sec)\n",
      "INFO:tensorflow:global_step/sec: 11.4923\n",
      "INFO:tensorflow:loss = 130288.06, step = 7301 (8.702 sec)\n",
      "INFO:tensorflow:global_step/sec: 10.1452\n",
      "INFO:tensorflow:loss = 126360.195, step = 7401 (9.857 sec)\n",
      "INFO:tensorflow:global_step/sec: 11.5697\n",
      "INFO:tensorflow:loss = 130444.91, step = 7501 (8.644 sec)\n",
      "INFO:tensorflow:global_step/sec: 10.1534\n",
      "INFO:tensorflow:loss = 127459.09, step = 7601 (9.849 sec)\n",
      "INFO:tensorflow:global_step/sec: 11.5581\n",
      "INFO:tensorflow:loss = 126912.39, step = 7701 (8.652 sec)\n",
      "INFO:tensorflow:global_step/sec: 9.51947\n",
      "INFO:tensorflow:loss = 137137.52, step = 7801 (10.504 sec)\n"
     ]
    },
    {
     "name": "stdout",
     "output_type": "stream",
     "text": [
      "INFO:tensorflow:global_step/sec: 11.1709\n",
      "INFO:tensorflow:loss = 121844.11, step = 7901 (8.952 sec)\n",
      "INFO:tensorflow:global_step/sec: 10.019\n",
      "INFO:tensorflow:loss = 126360.91, step = 8001 (9.981 sec)\n",
      "INFO:tensorflow:global_step/sec: 10.5646\n",
      "INFO:tensorflow:loss = 127649.984, step = 8101 (9.466 sec)\n",
      "INFO:tensorflow:global_step/sec: 8.13424\n",
      "INFO:tensorflow:loss = 128064.36, step = 8201 (12.293 sec)\n",
      "INFO:tensorflow:global_step/sec: 9.66185\n",
      "INFO:tensorflow:loss = 124282.05, step = 8301 (10.350 sec)\n",
      "INFO:tensorflow:global_step/sec: 11.0283\n",
      "INFO:tensorflow:loss = 125563.29, step = 8401 (9.068 sec)\n",
      "INFO:tensorflow:global_step/sec: 10.607\n",
      "INFO:tensorflow:loss = 129936.22, step = 8501 (9.427 sec)\n",
      "INFO:tensorflow:global_step/sec: 11.7071\n",
      "INFO:tensorflow:loss = 128752.875, step = 8601 (8.542 sec)\n",
      "INFO:tensorflow:global_step/sec: 10.5012\n",
      "INFO:tensorflow:loss = 126853.164, step = 8701 (9.523 sec)\n",
      "INFO:tensorflow:global_step/sec: 11.5904\n",
      "INFO:tensorflow:loss = 128797.08, step = 8801 (8.628 sec)\n",
      "INFO:tensorflow:global_step/sec: 10.4673\n",
      "INFO:tensorflow:loss = 128966.56, step = 8901 (9.554 sec)\n",
      "INFO:tensorflow:global_step/sec: 11.6942\n",
      "INFO:tensorflow:loss = 132281.62, step = 9001 (8.552 sec)\n",
      "INFO:tensorflow:global_step/sec: 10.5748\n",
      "INFO:tensorflow:loss = 133243.97, step = 9101 (9.455 sec)\n",
      "INFO:tensorflow:global_step/sec: 11.2652\n",
      "INFO:tensorflow:loss = 131179.3, step = 9201 (8.877 sec)\n",
      "INFO:tensorflow:global_step/sec: 9.31005\n",
      "INFO:tensorflow:loss = 135402.58, step = 9301 (10.747 sec)\n",
      "INFO:tensorflow:global_step/sec: 10.8875\n",
      "INFO:tensorflow:loss = 126003.68, step = 9401 (9.179 sec)\n",
      "INFO:tensorflow:global_step/sec: 10.3114\n",
      "INFO:tensorflow:loss = 126975.87, step = 9501 (9.698 sec)\n",
      "INFO:tensorflow:global_step/sec: 11.5189\n",
      "INFO:tensorflow:loss = 129883.2, step = 9601 (8.681 sec)\n",
      "INFO:tensorflow:global_step/sec: 10.0835\n",
      "INFO:tensorflow:loss = 133350.75, step = 9701 (9.917 sec)\n",
      "INFO:tensorflow:global_step/sec: 11.2363\n",
      "INFO:tensorflow:loss = 122547.39, step = 9801 (8.900 sec)\n",
      "INFO:tensorflow:global_step/sec: 10.2722\n",
      "INFO:tensorflow:loss = 122432.25, step = 9901 (9.735 sec)\n",
      "INFO:tensorflow:global_step/sec: 10.1528\n",
      "INFO:tensorflow:loss = 126912.46, step = 10001 (9.850 sec)\n",
      "INFO:tensorflow:global_step/sec: 11.2081\n",
      "INFO:tensorflow:loss = 130746.766, step = 10101 (8.922 sec)\n",
      "INFO:tensorflow:global_step/sec: 9.93856\n",
      "INFO:tensorflow:loss = 127277.91, step = 10201 (10.061 sec)\n",
      "INFO:tensorflow:global_step/sec: 10.7636\n",
      "INFO:tensorflow:loss = 131158.31, step = 10301 (9.291 sec)\n",
      "INFO:tensorflow:global_step/sec: 9.8615\n",
      "INFO:tensorflow:loss = 131517.08, step = 10401 (10.141 sec)\n",
      "INFO:tensorflow:global_step/sec: 11.0249\n",
      "INFO:tensorflow:loss = 127642.81, step = 10501 (9.070 sec)\n",
      "INFO:tensorflow:global_step/sec: 9.85511\n",
      "INFO:tensorflow:loss = 135340.6, step = 10601 (10.148 sec)\n",
      "INFO:tensorflow:global_step/sec: 11.1067\n",
      "INFO:tensorflow:loss = 127010.38, step = 10701 (9.003 sec)\n",
      "INFO:tensorflow:global_step/sec: 10.2157\n",
      "INFO:tensorflow:loss = 126899.234, step = 10801 (9.789 sec)\n",
      "INFO:tensorflow:global_step/sec: 11.2033\n",
      "INFO:tensorflow:loss = 127352.75, step = 10901 (8.926 sec)\n",
      "INFO:tensorflow:global_step/sec: 10.2327\n",
      "INFO:tensorflow:loss = 141829.81, step = 11001 (9.773 sec)\n",
      "INFO:tensorflow:global_step/sec: 11.2133\n",
      "INFO:tensorflow:loss = 125835.02, step = 11101 (8.918 sec)\n",
      "INFO:tensorflow:global_step/sec: 10.2058\n",
      "INFO:tensorflow:loss = 130654.47, step = 11201 (9.798 sec)\n",
      "INFO:tensorflow:global_step/sec: 10.9696\n",
      "INFO:tensorflow:loss = 126366.3, step = 11301 (9.116 sec)\n",
      "INFO:tensorflow:global_step/sec: 9.977\n",
      "INFO:tensorflow:loss = 129399.984, step = 11401 (10.023 sec)\n",
      "INFO:tensorflow:global_step/sec: 10.8399\n",
      "INFO:tensorflow:loss = 125515.72, step = 11501 (9.225 sec)\n",
      "INFO:tensorflow:global_step/sec: 9.95906\n",
      "INFO:tensorflow:loss = 121348.664, step = 11601 (10.041 sec)\n",
      "INFO:tensorflow:global_step/sec: 9.81885\n",
      "INFO:tensorflow:loss = 132363.7, step = 11701 (10.184 sec)\n",
      "INFO:tensorflow:global_step/sec: 10.9332\n",
      "INFO:tensorflow:loss = 121946.78, step = 11801 (9.147 sec)\n",
      "INFO:tensorflow:global_step/sec: 10.0887\n",
      "INFO:tensorflow:loss = 132568.5, step = 11901 (9.912 sec)\n",
      "INFO:tensorflow:global_step/sec: 11.2059\n",
      "INFO:tensorflow:loss = 132513.47, step = 12001 (8.925 sec)\n",
      "INFO:tensorflow:global_step/sec: 10.0029\n",
      "INFO:tensorflow:loss = 130230.31, step = 12101 (9.996 sec)\n",
      "INFO:tensorflow:global_step/sec: 11.087\n",
      "INFO:tensorflow:loss = 139940.28, step = 12201 (9.020 sec)\n",
      "INFO:tensorflow:global_step/sec: 10.0925\n",
      "INFO:tensorflow:loss = 125802.766, step = 12301 (9.908 sec)\n",
      "INFO:tensorflow:global_step/sec: 11.3733\n",
      "INFO:tensorflow:loss = 133127.45, step = 12401 (8.793 sec)\n",
      "INFO:tensorflow:global_step/sec: 9.6019\n",
      "INFO:tensorflow:loss = 127422.06, step = 12501 (10.415 sec)\n",
      "INFO:tensorflow:global_step/sec: 11.2763\n",
      "INFO:tensorflow:loss = 123606.29, step = 12601 (8.868 sec)\n",
      "INFO:tensorflow:global_step/sec: 9.93717\n",
      "INFO:tensorflow:loss = 123357.44, step = 12701 (10.063 sec)\n",
      "INFO:tensorflow:global_step/sec: 10.8485\n",
      "INFO:tensorflow:loss = 135413.22, step = 12801 (9.218 sec)\n",
      "INFO:tensorflow:Saving checkpoints for 12843 into /var/folders/_f/7t_whmpx0zn2ln3npht19g8h0000gn/T/tmp7ce5u856/model.ckpt.\n",
      "INFO:tensorflow:global_step/sec: 10.1007\n",
      "INFO:tensorflow:loss = 129512.29, step = 12901 (9.900 sec)\n",
      "INFO:tensorflow:global_step/sec: 8.9862\n",
      "INFO:tensorflow:loss = 132449.5, step = 13001 (11.128 sec)\n",
      "INFO:tensorflow:global_step/sec: 9.89749\n",
      "INFO:tensorflow:loss = 131785.2, step = 13101 (10.104 sec)\n",
      "INFO:tensorflow:global_step/sec: 11.1627\n",
      "INFO:tensorflow:loss = 127733.914, step = 13201 (8.959 sec)\n",
      "INFO:tensorflow:Saving checkpoints for 13282 into /var/folders/_f/7t_whmpx0zn2ln3npht19g8h0000gn/T/tmp7ce5u856/model.ckpt.\n",
      "INFO:tensorflow:Loss for final step: 126694.78.\n"
     ]
    },
    {
     "data": {
      "text/plain": [
       "<estimator_svdd.SVDDClassifier at 0x1155a36d8>"
      ]
     },
     "execution_count": 6,
     "metadata": {},
     "output_type": "execute_result"
    }
   ],
   "source": [
    "classifier.train(\n",
    "    input_fn=input_fn_train,\n",
    "    steps=EPOCHS * N_TRAIN / BATCH_SIZE,\n",
    "    hooks=train_hooks\n",
    ")"
   ]
  },
  {
   "cell_type": "markdown",
   "metadata": {},
   "source": [
    "# Predicting"
   ]
  },
  {
   "cell_type": "markdown",
   "metadata": {},
   "source": [
    "## Test set"
   ]
  },
  {
   "cell_type": "code",
   "execution_count": 14,
   "metadata": {
    "scrolled": false
   },
   "outputs": [
    {
     "name": "stdout",
     "output_type": "stream",
     "text": [
      "INFO:tensorflow:Calling model_fn.\n",
      "INFO:tensorflow:Done calling model_fn.\n",
      "INFO:tensorflow:Graph was finalized.\n",
      "INFO:tensorflow:Restoring parameters from /var/folders/_f/7t_whmpx0zn2ln3npht19g8h0000gn/T/tmp7ce5u856/model.ckpt-13282\n",
      "INFO:tensorflow:Running local_init_op.\n",
      "INFO:tensorflow:Done running local_init_op.\n"
     ]
    }
   ],
   "source": [
    "predictions = classifier.predict(\n",
    "    input_fn=input_fn_test,\n",
    "    hooks=test_hooks\n",
    ")\n",
    "\n",
    "predictions_list = list(predictions)\n",
    "test_predicted_scores = np.asarray(list(map(lambda p: p[\"predicted_scores\"], predictions_list))).astype(np.int32)\n",
    "test_predicted_classes = np.asarray(list(map(lambda p: p[\"predicted_classes\"], predictions_list))).astype(np.int32)"
   ]
  },
  {
   "cell_type": "code",
   "execution_count": 15,
   "metadata": {},
   "outputs": [
    {
     "data": {
      "text/plain": [
       "<matplotlib.axes._subplots.AxesSubplot at 0x115b21128>"
      ]
     },
     "execution_count": 15,
     "metadata": {},
     "output_type": "execute_result"
    },
    {
     "data": {
      "image/png": "[encoded data removed]",
      "text/plain": [
       "<Figure size 432x288 with 1 Axes>"
      ]
     },
     "metadata": {},
     "output_type": "display_data"
    }
   ],
   "source": [
    "df = pd.DataFrame(test_predicted_classes)\n",
    "df.plot.hist()"
   ]
  },
  {
   "cell_type": "markdown",
   "metadata": {},
   "source": [
    "## Train set"
   ]
  },
  {
   "cell_type": "code",
   "execution_count": 16,
   "metadata": {},
   "outputs": [
    {
     "name": "stdout",
     "output_type": "stream",
     "text": [
      "INFO:tensorflow:Calling model_fn.\n",
      "INFO:tensorflow:Done calling model_fn.\n",
      "INFO:tensorflow:Graph was finalized.\n",
      "INFO:tensorflow:Restoring parameters from /var/folders/_f/7t_whmpx0zn2ln3npht19g8h0000gn/T/tmp7ce5u856/model.ckpt-13282\n",
      "INFO:tensorflow:Running local_init_op.\n",
      "INFO:tensorflow:Done running local_init_op.\n"
     ]
    },
    {
     "data": {
      "text/plain": [
       "<matplotlib.axes._subplots.AxesSubplot at 0x115844da0>"
      ]
     },
     "execution_count": 16,
     "metadata": {},
     "output_type": "execute_result"
    },
    {
     "data": {
      "image/png": "[encoded data removed]",
      "text/plain": [
       "<Figure size 432x288 with 1 Axes>"
      ]
     },
     "metadata": {},
     "output_type": "display_data"
    }
   ],
   "source": [
    "from data_utils import _cnn_input_fn\n",
    "predictions = classifier.predict(\n",
    "    input_fn=lambda: train_cnn_input_fn(CLASS_NBR, CNN_OUTPUT_DIR).batch(BATCH_SIZE)\n",
    ")\n",
    "\n",
    "predictions_list = list(predictions)\n",
    "train_predicted_scores = np.asarray(list(map(lambda p: p[\"predicted_scores\"], predictions_list))).astype(np.int32)\n",
    "train_predicted_classes = np.asarray(list(map(lambda p: p[\"predicted_classes\"], predictions_list))).astype(np.int32)\n",
    "\n",
    "df = pd.DataFrame(train_predicted_classes)\n",
    "df.plot.hist()"
   ]
  },
  {
   "cell_type": "markdown",
   "metadata": {},
   "source": [
    "# Validation and metrics"
   ]
  },
  {
   "cell_type": "markdown",
   "metadata": {},
   "source": [
    "## On test set"
   ]
  },
  {
   "cell_type": "code",
   "execution_count": 17,
   "metadata": {},
   "outputs": [
    {
     "data": {
      "text/plain": [
       "(300,)"
      ]
     },
     "execution_count": 17,
     "metadata": {},
     "output_type": "execute_result"
    }
   ],
   "source": [
    "# Test set\n",
    "y_test = []\n",
    "input_fn = test_cnn_input_fn(CLASS_NBR, CNN_OUTPUT_DIR).batch(1)\n",
    "input_fn = input_fn.make_one_shot_iterator().get_next()\n",
    "sess = tf.Session()\n",
    "while True:\n",
    "    try:\n",
    "        data = sess.run(input_fn)\n",
    "        y_test.append(data[1][0])\n",
    "    except tf.errors.OutOfRangeError:\n",
    "        break\n",
    "y_test = np.asarray(y_test)\n",
    "y_test.shape"
   ]
  },
  {
   "cell_type": "code",
   "execution_count": 18,
   "metadata": {},
   "outputs": [
    {
     "name": "stdout",
     "output_type": "stream",
     "text": [
      "Confusion matrix, without normalization\n",
      "[[ 95  55]\n",
      " [ 50 100]]\n"
     ]
    },
    {
     "data": {
      "text/plain": [
       "Accuracy     0.650000\n",
       "Precision    0.645161\n",
       "Recall       0.666667\n",
       "f1-score     0.655738\n",
       "dtype: float64"
      ]
     },
     "execution_count": 18,
     "metadata": {},
     "output_type": "execute_result"
    },
    {
     "data": {
      "image/png": "[encoded data removed]",
      "text/plain": [
       "<Figure size 432x288 with 2 Axes>"
      ]
     },
     "metadata": {},
     "output_type": "display_data"
    }
   ],
   "source": [
    "from validation import evaluation_summary\n",
    "evaluation_summary(y_test, test_predicted_classes, plot_cm=True)"
   ]
  },
  {
   "cell_type": "markdown",
   "metadata": {},
   "source": [
    "## On train set"
   ]
  },
  {
   "cell_type": "code",
   "execution_count": 19,
   "metadata": {},
   "outputs": [
    {
     "data": {
      "text/plain": [
       "(850,)"
      ]
     },
     "execution_count": 19,
     "metadata": {},
     "output_type": "execute_result"
    }
   ],
   "source": [
    "# Train set\n",
    "y_train = np.ones(N_TRAIN)\n",
    "y_train.shape"
   ]
  },
  {
   "cell_type": "code",
   "execution_count": 20,
   "metadata": {},
   "outputs": [
    {
     "name": "stdout",
     "output_type": "stream",
     "text": [
      "Confusion matrix, without normalization\n",
      "[[  0   0]\n",
      " [281 569]]\n"
     ]
    },
    {
     "data": {
      "text/plain": [
       "Accuracy     0.669412\n",
       "Precision    1.000000\n",
       "Recall       0.669412\n",
       "f1-score     0.801973\n",
       "dtype: float64"
      ]
     },
     "execution_count": 20,
     "metadata": {},
     "output_type": "execute_result"
    },
    {
     "data": {
      "image/png": "[encoded data removed]",
      "text/plain": [
       "<Figure size 432x288 with 2 Axes>"
      ]
     },
     "metadata": {},
     "output_type": "display_data"
    }
   ],
   "source": [
    "from validation import evaluation_summary\n",
    "evaluation_summary(y_train, train_predicted_classes, plot_cm=True)"
   ]
  },
  {
   "cell_type": "code",
   "execution_count": null,
   "metadata": {},
   "outputs": [],
   "source": []
  },
  {
   "cell_type": "code",
   "execution_count": null,
   "metadata": {},
   "outputs": [],
   "source": []
  }
 ],
 "metadata": {
  "kernelspec": {
   "display_name": "Python 3",
   "language": "python",
   "name": "python3"
  },
  "language_info": {
   "codemirror_mode": {
    "name": "ipython",
    "version": 3
   },
   "file_extension": ".py",
   "mimetype": "text/x-python",
   "name": "python",
   "nbconvert_exporter": "python",
   "pygments_lexer": "ipython3",
   "version": "3.6.4"
  },
  "toc": {
   "colors": {
    "hover_highlight": "#DAA520",
    "navigate_num": "#000000",
    "navigate_text": "#333333",
    "running_highlight": "#FF0000",
    "selected_highlight": "#FFD700",
    "sidebar_border": "#EEEEEE",
    "wrapper_background": "#FFFFFF"
   },
   "moveMenuLeft": true,
   "nav_menu": {
    "height": "84px",
    "width": "252px"
   },
   "navigate_menu": true,
   "number_sections": true,
   "sideBar": true,
   "threshold": 4.0,
   "toc_cell": false,
   "toc_section_display": "block",
   "toc_window_display": false,
   "widenNotebook": false
  }
 },
 "nbformat": 4,
 "nbformat_minor": 2
}
