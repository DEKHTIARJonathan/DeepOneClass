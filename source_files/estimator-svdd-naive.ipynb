{
 "cells": [
  {
   "cell_type": "code",
   "execution_count": 15,
   "metadata": {},
   "outputs": [],
   "source": [
    "import tensorflow as tf\n",
    "import numpy as np\n",
    "from estimator_svdd_naive import naive_svdd_model_fn\n",
    "\n",
    "tf.set_random_seed(1)\n",
    "np.random.seed(1)"
   ]
  },
  {
   "cell_type": "code",
   "execution_count": 16,
   "metadata": {},
   "outputs": [],
   "source": [
    "n_inputs        = 100\n",
    "target_w        = 224\n",
    "batch_size      = 10\n",
    "train_steps     = 1000\n",
    "model_dir       = \"../tmp/estimator_svdd_naive\""
   ]
  },
  {
   "cell_type": "code",
   "execution_count": 17,
   "metadata": {},
   "outputs": [],
   "source": [
    "# Simulate fake data coming from a flatten layer of a CNN\n",
    "x_train = np.random.multivariate_normal(mean=[1., 1.], cov=np.eye(2), size=n_inputs).astype(np.float32)\n",
    "train_input_fn = tf.estimator.inputs.numpy_input_fn(\n",
    "    x=x_train,\n",
    "    y=None,\n",
    "    batch_size=batch_size,\n",
    "    num_epochs=None,\n",
    "    shuffle=False\n",
    ")\n",
    "\n",
    "x_eval = np.vstack([\n",
    "    np.random.multivariate_normal(mean=[1., 1.], cov=np.eye(2), size=950).astype(np.float32),\n",
    "    np.random.multivariate_normal(mean=[10., 10.], cov=np.eye(2), size=50).astype(np.float32),\n",
    "])\n",
    "test_input_fn = tf.estimator.inputs.numpy_input_fn(\n",
    "    x=x_eval,\n",
    "    y=None,\n",
    "    batch_size=50,\n",
    "    num_epochs=1,\n",
    "    shuffle=False\n",
    ")"
   ]
  },
  {
   "cell_type": "code",
   "execution_count": 18,
   "metadata": {
    "scrolled": false
   },
   "outputs": [
    {
     "name": "stdout",
     "output_type": "stream",
     "text": [
      "INFO:tensorflow:Using default config.\n",
      "WARNING:tensorflow:Using temporary folder as model directory: /var/folders/_f/7t_whmpx0zn2ln3npht19g8h0000gn/T/tmpszmmz_6o\n",
      "INFO:tensorflow:Using config: {'_model_dir': '/var/folders/_f/7t_whmpx0zn2ln3npht19g8h0000gn/T/tmpszmmz_6o', '_tf_random_seed': None, '_save_summary_steps': 100, '_save_checkpoints_steps': None, '_save_checkpoints_secs': 600, '_session_config': None, '_keep_checkpoint_max': 5, '_keep_checkpoint_every_n_hours': 10000, '_log_step_count_steps': 100, '_train_distribute': None, '_service': None, '_cluster_spec': <tensorflow.python.training.server_lib.ClusterSpec object at 0x121c2d080>, '_task_type': 'worker', '_task_id': 0, '_global_id_in_cluster': 0, '_master': '', '_evaluation_master': '', '_is_chief': True, '_num_ps_replicas': 0, '_num_worker_replicas': 1}\n",
      "INFO:tensorflow:Calling model_fn.\n",
      "INFO:tensorflow:Done calling model_fn.\n",
      "INFO:tensorflow:Create CheckpointSaverHook.\n",
      "INFO:tensorflow:Graph was finalized.\n",
      "INFO:tensorflow:Running local_init_op.\n",
      "INFO:tensorflow:Done running local_init_op.\n",
      "INFO:tensorflow:Saving checkpoints for 1 into /var/folders/_f/7t_whmpx0zn2ln3npht19g8h0000gn/T/tmpszmmz_6o/model.ckpt.\n",
      "INFO:tensorflow:loss = 102.554985, step = 1\n",
      "INFO:tensorflow:global_step/sec: 674.554\n",
      "INFO:tensorflow:loss = 5.4632354, step = 101 (0.149 sec)\n",
      "INFO:tensorflow:global_step/sec: 1025.67\n",
      "INFO:tensorflow:loss = 0.035068907, step = 201 (0.097 sec)\n",
      "INFO:tensorflow:global_step/sec: 986.143\n",
      "INFO:tensorflow:loss = 0.0045175655, step = 301 (0.102 sec)\n",
      "INFO:tensorflow:global_step/sec: 932.986\n",
      "INFO:tensorflow:loss = 0.004506802, step = 401 (0.107 sec)\n",
      "INFO:tensorflow:global_step/sec: 785.842\n",
      "INFO:tensorflow:loss = 0.004504631, step = 501 (0.127 sec)\n",
      "INFO:tensorflow:global_step/sec: 822.092\n",
      "INFO:tensorflow:loss = 0.0045033046, step = 601 (0.122 sec)\n",
      "INFO:tensorflow:global_step/sec: 1065.9\n",
      "INFO:tensorflow:loss = 0.004502413, step = 701 (0.094 sec)\n",
      "INFO:tensorflow:global_step/sec: 1046.31\n",
      "INFO:tensorflow:loss = 0.0045017772, step = 801 (0.095 sec)\n",
      "INFO:tensorflow:global_step/sec: 1061.27\n",
      "INFO:tensorflow:loss = 0.0045013023, step = 901 (0.094 sec)\n",
      "INFO:tensorflow:Saving checkpoints for 1000 into /var/folders/_f/7t_whmpx0zn2ln3npht19g8h0000gn/T/tmpszmmz_6o/model.ckpt.\n",
      "INFO:tensorflow:Loss for final step: 0.002917904.\n"
     ]
    }
   ],
   "source": [
    "OCClassifier = tf.estimator.Estimator(\n",
    "    model_fn=naive_svdd_model_fn,\n",
    "    params={\n",
    "        \"frac_err\": 50,\n",
    "        \"n_inputs\": n_inputs,\n",
    "        \"kernel\": \"linear\",\n",
    "        \"rffm_dims\": 200,\n",
    "        \"rffm_stddev\": 25,\n",
    "        \"learning_rate\": 0.1\n",
    "    },\n",
    "    model_dir=None\n",
    ")\n",
    "\n",
    "OCClassifier.train(\n",
    "    input_fn=train_input_fn,\n",
    "    steps=train_steps\n",
    ")\n",
    "tf.logging.set_verbosity(tf.logging.DEBUG)"
   ]
  },
  {
   "cell_type": "code",
   "execution_count": 19,
   "metadata": {
    "scrolled": true
   },
   "outputs": [
    {
     "name": "stdout",
     "output_type": "stream",
     "text": [
      "INFO:tensorflow:Calling model_fn.\n",
      "INFO:tensorflow:Done calling model_fn.\n",
      "INFO:tensorflow:Graph was finalized.\n",
      "INFO:tensorflow:Restoring parameters from /var/folders/_f/7t_whmpx0zn2ln3npht19g8h0000gn/T/tmpszmmz_6o/model.ckpt-1000\n",
      "INFO:tensorflow:Running local_init_op.\n",
      "INFO:tensorflow:Done running local_init_op.\n"
     ]
    }
   ],
   "source": [
    "predictions = OCClassifier.predict(\n",
    "    input_fn=test_input_fn\n",
    ")\n",
    "predictions_list = list(predictions)\n",
    "predictions_distance = np.asarray(list(map(lambda p: p[\"predicted_distance\"], predictions_list)))\n",
    "predictions_classes = np.asarray(list(map(lambda p: p[\"predicted_classes\"], predictions_list)))\n",
    "mapped_inputs = np.asarray(list(map(lambda p: p[\"mapped_inputs\"], predictions_list)))"
   ]
  },
  {
   "cell_type": "code",
   "execution_count": 20,
   "metadata": {},
   "outputs": [
    {
     "data": {
      "text/plain": [
       "(1.6687746e-19, array([1.2109517, 1.0064894], dtype=float32))"
      ]
     },
     "execution_count": 20,
     "metadata": {},
     "output_type": "execute_result"
    }
   ],
   "source": [
    "OCClassifier.get_variable_value('Radius'), OCClassifier.get_variable_value('Center')"
   ]
  },
  {
   "cell_type": "code",
   "execution_count": 21,
   "metadata": {},
   "outputs": [
    {
     "data": {
      "image/png": "[encoded data removed]",
      "text/plain": [
       "<Figure size 432x288 with 1 Axes>"
      ]
     },
     "metadata": {},
     "output_type": "display_data"
    }
   ],
   "source": [
    "import matplotlib.pyplot as plt\n",
    "\n",
    "ind_normal = predictions_classes > 0\n",
    "ind_outlier = predictions_classes < 0\n",
    "plt.plot(x_eval[ind_normal, 0], x_eval[ind_normal, 1], \"x\", label=\"Predicted as normal\")\n",
    "plt.plot(x_eval[ind_outlier, 0], x_eval[ind_outlier, 1], \"x\", label=\"Predicted as outlier\")\n",
    "plt.legend()\n",
    "g = plt.grid()\n",
    "plt.show()"
   ]
  },
  {
   "cell_type": "code",
   "execution_count": null,
   "metadata": {},
   "outputs": [],
   "source": []
  },
  {
   "cell_type": "code",
   "execution_count": null,
   "metadata": {},
   "outputs": [],
   "source": []
  },
  {
   "cell_type": "code",
   "execution_count": null,
   "metadata": {},
   "outputs": [],
   "source": []
  }
 ],
 "metadata": {
  "kernelspec": {
   "display_name": "Python 3",
   "language": "python",
   "name": "python3"
  },
  "language_info": {
   "codemirror_mode": {
    "name": "ipython",
    "version": 3
   },
   "file_extension": ".py",
   "mimetype": "text/x-python",
   "name": "python",
   "nbconvert_exporter": "python",
   "pygments_lexer": "ipython3",
   "version": "3.6.4"
  },
  "toc": {
   "colors": {
    "hover_highlight": "#DAA520",
    "navigate_num": "#000000",
    "navigate_text": "#333333",
    "running_highlight": "#FF0000",
    "selected_highlight": "#FFD700",
    "sidebar_border": "#EEEEEE",
    "wrapper_background": "#FFFFFF"
   },
   "moveMenuLeft": true,
   "nav_menu": {
    "height": "12px",
    "width": "252px"
   },
   "navigate_menu": true,
   "number_sections": true,
   "sideBar": true,
   "threshold": 4,
   "toc_cell": false,
   "toc_section_display": "block",
   "toc_window_display": false,
   "widenNotebook": false
  }
 },
 "nbformat": 4,
 "nbformat_minor": 2
}
