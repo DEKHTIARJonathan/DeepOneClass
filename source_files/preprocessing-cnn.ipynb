{
 "cells": [
  {
   "cell_type": "code",
   "execution_count": 1,
   "metadata": {},
   "outputs": [
    {
     "name": "stderr",
     "output_type": "stream",
     "text": [
      "/Users/Sylvain/.pyenv/versions/3.6.4/lib/python3.6/site-packages/h5py/__init__.py:36: FutureWarning: Conversion of the second argument of issubdtype from `float` to `np.floating` is deprecated. In future, it will be treated as `np.float64 == np.dtype(float).type`.\n",
      "  from ._conv import register_converters as _register_converters\n"
     ]
    }
   ],
   "source": [
    "import os\n",
    "import numpy as np\n",
    "import tensorflow as tf\n",
    "from vgg_network import VGG_Network\n",
    "from data_utils import train_input_fn, test_input_fn\n",
    "from preprocessing_cnn import run_images_in_cnn\n",
    "\n",
    "class_nbr = 6\n",
    "target_w = 224\n",
    "input_shape = [None, target_w, target_w, 3]\n",
    "batch_size = 2\n",
    "\n",
    "cnn_outputs_dir = os.path.join('..', 'tmp', 'cnn_output')\n",
    "if not os.path.exists(cnn_outputs_dir):\n",
    "    os.makedirs(cnn_outputs_dir)"
   ]
  },
  {
   "cell_type": "markdown",
   "metadata": {},
   "source": [
    "# VGG16"
   ]
  },
  {
   "cell_type": "code",
   "execution_count": 2,
   "metadata": {},
   "outputs": [
    {
     "name": "stdout",
     "output_type": "stream",
     "text": [
      "WARNING:tensorflow:From /Users/Sylvain/Desktop/TX/DeepOneClass/source_files/vgg_network.py:23: set_name_reuse (from tensorlayer.layers.core) is deprecated and will be removed after 2018-06-30.\n",
      "Instructions for updating:\n",
      "TensorLayer relies on TensorFlow to check name reusing.\n"
     ]
    },
    {
     "name": "stderr",
     "output_type": "stream",
     "text": [
      "[TL] this method is DEPRECATED and has no effect, please remove it from your code.\n",
      "[TL] InputLayer  vgg_network/input: (?, 224, 224, 3)\n",
      "[TL] this method is DEPRECATED and has no effect, please remove it from your code.\n",
      "[TL] this method is DEPRECATED and has no effect, please remove it from your code.\n",
      "[TL] Conv2dLayer vgg_network/conv_layers/h1/conv1: shape:(3, 3, 3, 64) strides:(1, 1, 1, 1) pad:SAME act:relu\n",
      "[TL] Conv2dLayer vgg_network/conv_layers/h1/conv2: shape:(3, 3, 64, 64) strides:(1, 1, 1, 1) pad:SAME act:relu\n",
      "[TL] PoolLayer   vgg_network/conv_layers/h1/pool: ksize:[1, 2, 2, 1] strides:[1, 2, 2, 1] padding:SAME pool:max_pool\n",
      "[TL] this method is DEPRECATED and has no effect, please remove it from your code.\n",
      "[TL] Conv2dLayer vgg_network/conv_layers/h2/conv1: shape:(3, 3, 64, 128) strides:(1, 1, 1, 1) pad:SAME act:relu\n",
      "[TL] Conv2dLayer vgg_network/conv_layers/h2/conv2: shape:(3, 3, 128, 128) strides:(1, 1, 1, 1) pad:SAME act:relu\n",
      "[TL] PoolLayer   vgg_network/conv_layers/h2/pool: ksize:[1, 2, 2, 1] strides:[1, 2, 2, 1] padding:SAME pool:max_pool\n",
      "[TL] this method is DEPRECATED and has no effect, please remove it from your code.\n",
      "[TL] Conv2dLayer vgg_network/conv_layers/h3/conv1: shape:(3, 3, 128, 256) strides:(1, 1, 1, 1) pad:SAME act:relu\n",
      "[TL] Conv2dLayer vgg_network/conv_layers/h3/conv2: shape:(3, 3, 256, 256) strides:(1, 1, 1, 1) pad:SAME act:relu\n",
      "[TL] Conv2dLayer vgg_network/conv_layers/h3/conv3: shape:(3, 3, 256, 256) strides:(1, 1, 1, 1) pad:SAME act:relu\n",
      "[TL] PoolLayer   vgg_network/conv_layers/h3/pool: ksize:[1, 2, 2, 1] strides:[1, 2, 2, 1] padding:SAME pool:max_pool\n",
      "[TL] this method is DEPRECATED and has no effect, please remove it from your code.\n",
      "[TL] Conv2dLayer vgg_network/conv_layers/h4/conv1: shape:(3, 3, 256, 512) strides:(1, 1, 1, 1) pad:SAME act:relu\n",
      "[TL] Conv2dLayer vgg_network/conv_layers/h4/conv2: shape:(3, 3, 512, 512) strides:(1, 1, 1, 1) pad:SAME act:relu\n",
      "[TL] Conv2dLayer vgg_network/conv_layers/h4/conv3: shape:(3, 3, 512, 512) strides:(1, 1, 1, 1) pad:SAME act:relu\n",
      "[TL] PoolLayer   vgg_network/conv_layers/h4/pool: ksize:[1, 2, 2, 1] strides:[1, 2, 2, 1] padding:SAME pool:max_pool\n",
      "[TL] this method is DEPRECATED and has no effect, please remove it from your code.\n",
      "[TL] Conv2dLayer vgg_network/conv_layers/h5/conv1: shape:(3, 3, 512, 512) strides:(1, 1, 1, 1) pad:SAME act:relu\n",
      "[TL] Conv2dLayer vgg_network/conv_layers/h5/conv2: shape:(3, 3, 512, 512) strides:(1, 1, 1, 1) pad:SAME act:relu\n",
      "[TL] Conv2dLayer vgg_network/conv_layers/h5/conv3: shape:(3, 3, 512, 512) strides:(1, 1, 1, 1) pad:SAME act:relu\n",
      "[TL] PoolLayer   vgg_network/conv_layers/h5/pool: ksize:[1, 2, 2, 1] strides:[1, 2, 2, 1] padding:SAME pool:max_pool\n",
      "[TL] FlattenLayer vgg_network/flatten: 25088\n"
     ]
    }
   ],
   "source": [
    "# Network\n",
    "input_plh = tf.placeholder(tf.float32, shape=input_shape, name=\"X\")\n",
    "vgg_model = VGG_Network(include_FC_head=False)\n",
    "vgg_network, _ = vgg_model(input_plh)\n",
    "network = vgg_network\n",
    "\n",
    "# Pretrained weights loader hook\n",
    "hook_load_pretrained = lambda sess: vgg_model.load_pretrained(sess)"
   ]
  },
  {
   "cell_type": "markdown",
   "metadata": {},
   "source": [
    "## Train set"
   ]
  },
  {
   "cell_type": "code",
   "execution_count": 5,
   "metadata": {},
   "outputs": [
    {
     "name": "stdout",
     "output_type": "stream",
     "text": [
      "INFO:tensorflow:Loading VGG Net weights ...\n",
      "INFO:tensorflow:Finished loading VGG Net weights ...\n",
      "INFO:tensorflow:Image 100 has been passed through CNN\n",
      "INFO:tensorflow:Image 200 has been passed through CNN\n",
      "INFO:tensorflow:Image 300 has been passed through CNN\n",
      "INFO:tensorflow:Image 400 has been passed through CNN\n",
      "INFO:tensorflow:Image 500 has been passed through CNN\n",
      "INFO:tensorflow:Image 600 has been passed through CNN\n",
      "INFO:tensorflow:Image 700 has been passed through CNN\n",
      "INFO:tensorflow:Image 800 has been passed through CNN\n"
     ]
    },
    {
     "data": {
      "text/plain": [
       "850"
      ]
     },
     "execution_count": 5,
     "metadata": {},
     "output_type": "execute_result"
    }
   ],
   "source": [
    "# Train Dataset\n",
    "input_fn = train_input_fn(class_nbr, target_w, batch_size, keep_fn=True)\n",
    "\n",
    "# Directory \n",
    "vgg16_train_output_dir = os.path.join(cnn_outputs_dir, '{}/{}/train'.format('VGG16', class_nbr))\n",
    "os.makedirs(vgg16_train_output_dir) if not os.path.exists(vgg16_train_output_dir) else None\n",
    "\n",
    "run_images_in_cnn(input_fn, input_plh, network, vgg16_train_output_dir, hooks=[hook_load_pretrained])"
   ]
  },
  {
   "cell_type": "markdown",
   "metadata": {},
   "source": [
    "## Test set"
   ]
  },
  {
   "cell_type": "code",
   "execution_count": 6,
   "metadata": {},
   "outputs": [
    {
     "name": "stdout",
     "output_type": "stream",
     "text": [
      "INFO:tensorflow:Loading VGG Net weights ...\n",
      "INFO:tensorflow:Finished loading VGG Net weights ...\n",
      "INFO:tensorflow:Image 100 has been passed through CNN\n",
      "INFO:tensorflow:Image 200 has been passed through CNN\n",
      "INFO:tensorflow:Image 300 has been passed through CNN\n"
     ]
    },
    {
     "data": {
      "text/plain": [
       "300"
      ]
     },
     "execution_count": 6,
     "metadata": {},
     "output_type": "execute_result"
    }
   ],
   "source": [
    "# Train Dataset\n",
    "input_fn = test_input_fn(class_nbr, target_w, batch_size, keep_fn=True)\n",
    "\n",
    "# Directory \n",
    "vgg16_test_output_dir = os.path.join(cnn_outputs_dir, '{}/{}/test'.format('VGG16', class_nbr))\n",
    "os.makedirs(vgg16_test_output_dir) if not os.path.exists(vgg16_test_output_dir) else None\n",
    "\n",
    "run_images_in_cnn(input_fn, input_plh, network, vgg16_test_output_dir, hooks=[hook_load_pretrained])"
   ]
  },
  {
   "cell_type": "code",
   "execution_count": null,
   "metadata": {},
   "outputs": [],
   "source": []
  }
 ],
 "metadata": {
  "kernelspec": {
   "display_name": "Python 3",
   "language": "python",
   "name": "python3"
  },
  "language_info": {
   "codemirror_mode": {
    "name": "ipython",
    "version": 3
   },
   "file_extension": ".py",
   "mimetype": "text/x-python",
   "name": "python",
   "nbconvert_exporter": "python",
   "pygments_lexer": "ipython3",
   "version": "3.6.4"
  },
  "toc": {
   "colors": {
    "hover_highlight": "#DAA520",
    "navigate_num": "#000000",
    "navigate_text": "#333333",
    "running_highlight": "#FF0000",
    "selected_highlight": "#FFD700",
    "sidebar_border": "#EEEEEE",
    "wrapper_background": "#FFFFFF"
   },
   "moveMenuLeft": true,
   "nav_menu": {
    "height": "66px",
    "width": "252px"
   },
   "navigate_menu": true,
   "number_sections": true,
   "sideBar": true,
   "threshold": 4.0,
   "toc_cell": false,
   "toc_section_display": "block",
   "toc_window_display": false,
   "widenNotebook": false
  }
 },
 "nbformat": 4,
 "nbformat_minor": 2
}
