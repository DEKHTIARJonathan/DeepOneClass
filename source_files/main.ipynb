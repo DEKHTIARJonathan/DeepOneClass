{
 "cells": [
  {
   "cell_type": "code",
   "execution_count": 21,
   "metadata": {},
   "outputs": [],
   "source": [
    "import os\n",
    "import numpy as np\n",
    "import pandas as pd\n",
    "import tensorflow as tf\n",
    "\n",
    "tf.set_random_seed(1)\n",
    "np.random.seed(1)"
   ]
  },
  {
   "cell_type": "markdown",
   "metadata": {},
   "source": [
    "# Input data"
   ]
  },
  {
   "cell_type": "code",
   "execution_count": 2,
   "metadata": {},
   "outputs": [],
   "source": [
    "from data_utils import train_cnn_input_fn, test_cnn_input_fn"
   ]
  },
  {
   "cell_type": "code",
   "execution_count": 3,
   "metadata": {},
   "outputs": [],
   "source": [
    "class_nbr = 6\n",
    "batch_size = 2"
   ]
  },
  {
   "cell_type": "code",
   "execution_count": 4,
   "metadata": {
    "scrolled": false
   },
   "outputs": [],
   "source": [
    "train_input_fn = lambda: train_cnn_input_fn(class_nbr, \"../tmp/cnn_output/VGG16\", batch_size, keep_fn=False)\n",
    "test_input_fn = lambda: test_cnn_input_fn(class_nbr, \"../tmp/cnn_output/VGG16\", batch_size, keep_fn=False)"
   ]
  },
  {
   "cell_type": "code",
   "execution_count": 41,
   "metadata": {
    "scrolled": false
   },
   "outputs": [
    {
     "name": "stdout",
     "output_type": "stream",
     "text": [
      "[[0. 0. 0. ... 0. 0. 0.]\n",
      " [0. 0. 0. ... 0. 0. 0.]]\n",
      "[[0. 0. 0. ... 0. 0. 0.]\n",
      " [0. 0. 0. ... 0. 0. 0.]]\n"
     ]
    }
   ],
   "source": [
    "# Make sure it works\n",
    "with tf.Session() as sess: \n",
    "    print(sess.run(train_input_fn()))\n",
    "    print(sess.run(test_input_fn()))"
   ]
  },
  {
   "cell_type": "code",
   "execution_count": 45,
   "metadata": {},
   "outputs": [
    {
     "data": {
      "text/html": [
       "<div>\n",
       "<style scoped>\n",
       "    .dataframe tbody tr th:only-of-type {\n",
       "        vertical-align: middle;\n",
       "    }\n",
       "\n",
       "    .dataframe tbody tr th {\n",
       "        vertical-align: top;\n",
       "    }\n",
       "\n",
       "    .dataframe thead th {\n",
       "        text-align: right;\n",
       "    }\n",
       "</style>\n",
       "<table border=\"1\" class=\"dataframe\">\n",
       "  <thead>\n",
       "    <tr style=\"text-align: right;\">\n",
       "      <th></th>\n",
       "      <th>Unnamed: 0</th>\n",
       "      <th>original_path</th>\n",
       "      <th>is_healthy</th>\n",
       "      <th>target</th>\n",
       "    </tr>\n",
       "  </thead>\n",
       "  <tbody>\n",
       "    <tr>\n",
       "      <th>0</th>\n",
       "      <td>0</td>\n",
       "      <td>data\\957.png</td>\n",
       "      <td>1</td>\n",
       "      <td>test\\001.png</td>\n",
       "    </tr>\n",
       "    <tr>\n",
       "      <th>1</th>\n",
       "      <td>1</td>\n",
       "      <td>def\\87.png</td>\n",
       "      <td>-1</td>\n",
       "      <td>test\\002.png</td>\n",
       "    </tr>\n",
       "    <tr>\n",
       "      <th>2</th>\n",
       "      <td>2</td>\n",
       "      <td>data\\180.png</td>\n",
       "      <td>1</td>\n",
       "      <td>test\\003.png</td>\n",
       "    </tr>\n",
       "    <tr>\n",
       "      <th>3</th>\n",
       "      <td>3</td>\n",
       "      <td>def\\122.png</td>\n",
       "      <td>-1</td>\n",
       "      <td>test\\004.png</td>\n",
       "    </tr>\n",
       "    <tr>\n",
       "      <th>4</th>\n",
       "      <td>4</td>\n",
       "      <td>data\\12.png</td>\n",
       "      <td>1</td>\n",
       "      <td>test\\005.png</td>\n",
       "    </tr>\n",
       "  </tbody>\n",
       "</table>\n",
       "</div>"
      ],
      "text/plain": [
       "   Unnamed: 0 original_path  is_healthy        target\n",
       "0           0  data\\957.png           1  test\\001.png\n",
       "1           1    def\\87.png          -1  test\\002.png\n",
       "2           2  data\\180.png           1  test\\003.png\n",
       "3           3   def\\122.png          -1  test\\004.png\n",
       "4           4   data\\12.png           1  test\\005.png"
      ]
     },
     "execution_count": 45,
     "metadata": {},
     "output_type": "execute_result"
    }
   ],
   "source": [
    "test_csv_path = os.path.join('..', 'data/DAGM 2007 - Splitted', str(class_nbr), 'test_files.csv')\n",
    "df = pd.read_csv(test_csv_path, sep=\",\")\n",
    "df.head()"
   ]
  },
  {
   "cell_type": "code",
   "execution_count": 46,
   "metadata": {},
   "outputs": [
    {
     "data": {
      "text/plain": [
       "(<tf.Tensor 'IteratorGetNext_8:0' shape=<unknown> dtype=float32>,\n",
       " <tf.Tensor 'IteratorGetNext_8:1' shape=<unknown> dtype=int32>)"
      ]
     },
     "execution_count": 46,
     "metadata": {},
     "output_type": "execute_result"
    }
   ],
   "source": [
    "def csv_generator(csv_path, class_nbr, keep_fn=False):\n",
    "    df = pd.read_csv(csv_path, sep=\",\")\n",
    "    for index, row in df.iterrows():\n",
    "        img_path = os.path.join('..', 'data/DAGM 2007 - Splitted', str(class_nbr), row['target'].replace(\"\\\\\", \"/\"))\n",
    "        img_fn = os.path.basename(img_path)\n",
    "        img_encoded = np.load(\"../tmp/cnn_output/VGG16/{}/{}.npy\".format(\n",
    "            class_nbr,\n",
    "            row['target'].replace(\"\\\\\", \"/\")\n",
    "        ))\n",
    "        label = row['is_healthy']\n",
    "        if keep_fn:\n",
    "            yield (img_fn, img_encoded, label)\n",
    "        yield (img_encoded, label)\n",
    "\n",
    "def eval_input_fn(eval_csv_path=eval_csv_path, target_width=224, batch_size=2):\n",
    "    dataset = tf.data.Dataset.from_generator(\n",
    "        generator=lambda: csv_generator(eval_csv_path, 6),\n",
    "        output_types=(tf.float32, tf.int32)\n",
    "    )\n",
    "    dataset = dataset.batch(batch_size)\n",
    "    iterator = dataset.make_one_shot_iterator()\n",
    "    return iterator.get_next()\n",
    "\n",
    "eval_input_fn(test_csv_path)"
   ]
  },
  {
   "cell_type": "code",
   "execution_count": 59,
   "metadata": {},
   "outputs": [
    {
     "data": {
      "text/plain": [
       "(300,)"
      ]
     },
     "execution_count": 59,
     "metadata": {},
     "output_type": "execute_result"
    }
   ],
   "source": [
    "y_true = []\n",
    "input_fn = eval_input_fn(test_csv_path, batch_size=1)\n",
    "sess = tf.Session()\n",
    "while True:\n",
    "    try:\n",
    "        y_true.append(sess.run(input_fn)[1])\n",
    "    except tf.errors.OutOfRangeError:\n",
    "        break\n",
    "y_true = np.asarray(y_true).flatten()\n",
    "y_true.shape"
   ]
  },
  {
   "cell_type": "markdown",
   "metadata": {},
   "source": [
    "# Naive SVDD estimator"
   ]
  },
  {
   "cell_type": "code",
   "execution_count": 6,
   "metadata": {},
   "outputs": [],
   "source": [
    "from estimator_svdd_naive import naive_svdd_model_fn"
   ]
  },
  {
   "cell_type": "code",
   "execution_count": 28,
   "metadata": {},
   "outputs": [],
   "source": [
    "n_inputs = 850\n",
    "train_steps = 10\n",
    "model_dir = \"../tmp/estimator_svdd_naive\""
   ]
  },
  {
   "cell_type": "code",
   "execution_count": 71,
   "metadata": {},
   "outputs": [
    {
     "name": "stdout",
     "output_type": "stream",
     "text": [
      "INFO:tensorflow:Using default config.\n",
      "INFO:tensorflow:Using config: {'_model_dir': '../tmp/estimator_svdd_naive', '_tf_random_seed': None, '_save_summary_steps': 100, '_save_checkpoints_steps': None, '_save_checkpoints_secs': 600, '_session_config': None, '_keep_checkpoint_max': 5, '_keep_checkpoint_every_n_hours': 10000, '_log_step_count_steps': 100, '_train_distribute': None, '_service': None, '_cluster_spec': <tensorflow.python.training.server_lib.ClusterSpec object at 0x1199cce80>, '_task_type': 'worker', '_task_id': 0, '_global_id_in_cluster': 0, '_master': '', '_evaluation_master': '', '_is_chief': True, '_num_ps_replicas': 0, '_num_worker_replicas': 1}\n",
      "INFO:tensorflow:Calling model_fn.\n",
      "INFO:tensorflow:Done calling model_fn.\n",
      "INFO:tensorflow:Graph was finalized.\n",
      "INFO:tensorflow:Restoring parameters from ../tmp/estimator_svdd_naive/model.ckpt-1200\n",
      "INFO:tensorflow:Running local_init_op.\n",
      "INFO:tensorflow:Done running local_init_op.\n"
     ]
    }
   ],
   "source": [
    "OCClassifier = tf.estimator.Estimator(\n",
    "    model_fn=naive_svdd_model_fn,\n",
    "    params={\n",
    "        \"frac_err\": 50,\n",
    "        \"n_inputs\": n_inputs,\n",
    "        \"kernel\": \"linear\",\n",
    "        \"rffm_dims\": 200,\n",
    "        \"rffm_stddev\": 25,\n",
    "        \"learning_rate\": 0.1,\n",
    "        \"input_size\": 25088\n",
    "    },\n",
    "    model_dir=model_dir\n",
    ")\n",
    "\n",
    "predictions = OCClassifier.predict(\n",
    "    input_fn=test_input_fn\n",
    ")\n",
    "predictions_list = list(predictions)\n",
    "predictions_distance = np.asarray(list(map(lambda p: p[\"predicted_distance\"], predictions_list)))\n",
    "predictions_classes = np.asarray(list(map(lambda p: p[\"predicted_classes\"], predictions_list))).astype(np.int32)\n",
    "mapped_inputs = np.asarray(list(map(lambda p: p[\"mapped_inputs\"], predictions_list)))"
   ]
  },
  {
   "cell_type": "markdown",
   "metadata": {},
   "source": [
    "# Sklearn OCSVM"
   ]
  },
  {
   "cell_type": "code",
   "execution_count": 89,
   "metadata": {
    "scrolled": false
   },
   "outputs": [
    {
     "data": {
      "text/plain": [
       "((850, 25088), (300, 25088))"
      ]
     },
     "execution_count": 89,
     "metadata": {},
     "output_type": "execute_result"
    }
   ],
   "source": [
    "# Must load full data in memory with sklearn\n",
    "\n",
    "# Train set\n",
    "x_train = []\n",
    "input_fn = train_input_fn()\n",
    "sess = tf.Session()\n",
    "while True:\n",
    "    try:\n",
    "        data = sess.run(input_fn)\n",
    "        for i in range(batch_size):\n",
    "            x_train.append(data[i])\n",
    "    except tf.errors.OutOfRangeError:\n",
    "        break\n",
    "x_train = np.asarray(x_train)\n",
    "\n",
    "# Test set\n",
    "x_test = []\n",
    "input_fn = test_input_fn()\n",
    "sess = tf.Session()\n",
    "while True:\n",
    "    try:\n",
    "        data = sess.run(input_fn)\n",
    "        for i in range(batch_size):\n",
    "            x_test.append(data[i])\n",
    "    except tf.errors.OutOfRangeError:\n",
    "        break\n",
    "x_test = np.asarray(x_test)\n",
    "\n",
    "x_train.shape, x_test.shape"
   ]
  },
  {
   "cell_type": "code",
   "execution_count": 88,
   "metadata": {},
   "outputs": [
    {
     "data": {
      "text/plain": [
       "OneClassSVM(cache_size=200, coef0=0.0, degree=3, gamma='auto',\n",
       "      kernel='linear', max_iter=-1, nu=0.7, random_state=None,\n",
       "      shrinking=True, tol=0.001, verbose=False)"
      ]
     },
     "execution_count": 88,
     "metadata": {},
     "output_type": "execute_result"
    }
   ],
   "source": [
    "from sklearn.svm import OneClassSVM\n",
    "\n",
    "ocsvm = OneClassSVM(kernel='linear', nu=0.7)\n",
    "ocsvm.fit(x_train)"
   ]
  },
  {
   "cell_type": "code",
   "execution_count": 91,
   "metadata": {},
   "outputs": [
    {
     "data": {
      "text/plain": [
       "(300,)"
      ]
     },
     "execution_count": 91,
     "metadata": {},
     "output_type": "execute_result"
    }
   ],
   "source": [
    "sklearn_predictions = ocsvm.predict(x_test)\n",
    "sklearn_predictions.shape"
   ]
  },
  {
   "cell_type": "markdown",
   "metadata": {},
   "source": [
    "# Benchmark\n",
    "* -1 => normal (no default)\n",
    "* 1 => outlier (default)\n",
    "\n",
    "\n",
    "* Plus la précision est forte, plus les outliers prédits sont véritablement des outliers (on est précis)\n",
    "* Plus le recall est fort, plus on détecte les outliers (on rappelle bien)\n",
    "* Plus f1 est proche de 1, plus on est proche de 1 en précision et recall"
   ]
  },
  {
   "cell_type": "code",
   "execution_count": 38,
   "metadata": {},
   "outputs": [
    {
     "data": {
      "text/plain": [
       "Accuracy     0.666667\n",
       "Precision    1.000000\n",
       "Recall       0.500000\n",
       "f1-score     0.666667\n",
       "dtype: float64"
      ]
     },
     "execution_count": 38,
     "metadata": {},
     "output_type": "execute_result"
    }
   ],
   "source": [
    "import itertools\n",
    "from matplotlib import pyplot as plt\n",
    "from sklearn.metrics import accuracy_score, precision_score, recall_score, f1_score, confusion_matrix\n",
    "\n",
    "def plot_confusion_matrix(cm, classes,\n",
    "                          normalize=False,\n",
    "                          title='Confusion matrix',\n",
    "                          cmap=plt.cm.Blues):\n",
    "    \"\"\"\n",
    "    This function prints and plots the confusion matrix.\n",
    "    Normalization can be applied by setting `normalize=True`.\n",
    "    \"\"\"\n",
    "    if normalize:\n",
    "        cm = cm.astype('float') / cm.sum(axis=1)[:, np.newaxis]\n",
    "        print(\"Normalized confusion matrix\")\n",
    "    else:\n",
    "        print('Confusion matrix, without normalization')\n",
    "\n",
    "    print(cm)\n",
    "\n",
    "    plt.imshow(cm, interpolation='nearest', cmap=cmap)\n",
    "    plt.title(title)\n",
    "    plt.colorbar()\n",
    "    tick_marks = np.arange(len(classes))\n",
    "    plt.xticks(tick_marks, classes, rotation=45)\n",
    "    plt.yticks(tick_marks, classes)\n",
    "\n",
    "    fmt = '.2f' if normalize else 'd'\n",
    "    thresh = cm.max() / 2.\n",
    "    for i, j in itertools.product(range(cm.shape[0]), range(cm.shape[1])):\n",
    "        plt.text(j, i, format(cm[i, j], fmt),\n",
    "                 horizontalalignment=\"center\",\n",
    "                 color=\"white\" if cm[i, j] > thresh else \"black\")\n",
    "\n",
    "    plt.tight_layout()\n",
    "    plt.ylabel('True label')\n",
    "    plt.xlabel('Predicted label')\n",
    "\n",
    "def evaluation_summary(y_true, y_pred, plot_cm=False):\n",
    "    \n",
    "    acc = accuracy_score(y_true, y_pred)\n",
    "    pre = precision_score(y_true, y_pred)\n",
    "    rec = recall_score(y_true, y_pred)\n",
    "    f1 = f1_score(y_true, y_pred)\n",
    "    cm = confusion_matrix(y_true, y_pred)\n",
    "    \n",
    "    if plot_cm:\n",
    "        plot_confusion_matrix(cm, classes=[\"Normal\", \"Outlier\"], \n",
    "                              normalize=True, title='Normalized confusion matrix')\n",
    "    \n",
    "    return pd.Series({\n",
    "        \"Accuracy\": acc,\n",
    "        \"Precision\": pre,\n",
    "        \"Recall\": rec,\n",
    "        \"f1-score\": f1        \n",
    "    })\n",
    "    \n",
    "# Sanity check\n",
    "evaluation_summary([1,1,-1], [-1,1,-1])"
   ]
  },
  {
   "cell_type": "markdown",
   "metadata": {},
   "source": [
    "## Naive SVDD estimator"
   ]
  },
  {
   "cell_type": "code",
   "execution_count": 72,
   "metadata": {},
   "outputs": [
    {
     "data": {
      "text/plain": [
       "(True, (300,), (300,))"
      ]
     },
     "execution_count": 72,
     "metadata": {},
     "output_type": "execute_result"
    }
   ],
   "source": [
    "predictions_classes.shape == y_true.shape, predictions_classes.shape, y_true.shape"
   ]
  },
  {
   "cell_type": "code",
   "execution_count": 76,
   "metadata": {
    "scrolled": false
   },
   "outputs": [
    {
     "name": "stdout",
     "output_type": "stream",
     "text": [
      "Normalized confusion matrix\n",
      "[[1. 0.]\n",
      " [1. 0.]]\n"
     ]
    },
    {
     "name": "stderr",
     "output_type": "stream",
     "text": [
      "/Users/Sylvain/.pyenv/versions/3.6.4/lib/python3.6/site-packages/sklearn/metrics/classification.py:1135: UndefinedMetricWarning: Precision is ill-defined and being set to 0.0 due to no predicted samples.\n",
      "  'precision', 'predicted', average, warn_for)\n",
      "/Users/Sylvain/.pyenv/versions/3.6.4/lib/python3.6/site-packages/sklearn/metrics/classification.py:1135: UndefinedMetricWarning: F-score is ill-defined and being set to 0.0 due to no predicted samples.\n",
      "  'precision', 'predicted', average, warn_for)\n"
     ]
    },
    {
     "data": {
      "text/plain": [
       "Accuracy     0.5\n",
       "Precision    0.0\n",
       "Recall       0.0\n",
       "f1-score     0.0\n",
       "dtype: float64"
      ]
     },
     "execution_count": 76,
     "metadata": {},
     "output_type": "execute_result"
    },
    {
     "data": {
      "image/png": "[encoded data removed]",
      "text/plain": [
       "<Figure size 432x288 with 2 Axes>"
      ]
     },
     "metadata": {},
     "output_type": "display_data"
    }
   ],
   "source": [
    "evaluation_summary(y_true, predictions_classes, plot_cm=True)"
   ]
  },
  {
   "cell_type": "markdown",
   "metadata": {},
   "source": [
    "## Sklearn OCSVM"
   ]
  },
  {
   "cell_type": "code",
   "execution_count": 92,
   "metadata": {},
   "outputs": [
    {
     "data": {
      "text/plain": [
       "(True, (300,), (300,))"
      ]
     },
     "execution_count": 92,
     "metadata": {},
     "output_type": "execute_result"
    }
   ],
   "source": [
    "sklearn_predictions.shape == y_true.shape, sklearn_predictions.shape, y_true.shape"
   ]
  },
  {
   "cell_type": "code",
   "execution_count": 93,
   "metadata": {},
   "outputs": [
    {
     "name": "stdout",
     "output_type": "stream",
     "text": [
      "Normalized confusion matrix\n",
      "[[0.88666667 0.11333333]\n",
      " [0.64       0.36      ]]\n"
     ]
    },
    {
     "data": {
      "text/plain": [
       "Accuracy     0.623333\n",
       "Precision    0.760563\n",
       "Recall       0.360000\n",
       "f1-score     0.488688\n",
       "dtype: float64"
      ]
     },
     "execution_count": 93,
     "metadata": {},
     "output_type": "execute_result"
    },
    {
     "data": {
      "image/png": "[encoded data removed]",
      "text/plain": [
       "<Figure size 432x288 with 2 Axes>"
      ]
     },
     "metadata": {},
     "output_type": "display_data"
    }
   ],
   "source": [
    "evaluation_summary(y_true, sklearn_predictions, plot_cm=True)"
   ]
  },
  {
   "cell_type": "markdown",
   "metadata": {},
   "source": [
    "* La précision est forte, les prédits anormaux sont souvent bien des anormaux (ceux avec défaut, valeur à 1)\n",
    "* La recall est faible, les cas anormaux ne sont pas souvent détectés\n",
    "* L'accuracy est forte, mais en regardant la matrice de confusion on a tendance a toujours dire normal (ce qui confirme le faible recall)"
   ]
  },
  {
   "cell_type": "code",
   "execution_count": null,
   "metadata": {},
   "outputs": [],
   "source": []
  }
 ],
 "metadata": {
  "kernelspec": {
   "display_name": "Python 3",
   "language": "python",
   "name": "python3"
  },
  "language_info": {
   "codemirror_mode": {
    "name": "ipython",
    "version": 3
   },
   "file_extension": ".py",
   "mimetype": "text/x-python",
   "name": "python",
   "nbconvert_exporter": "python",
   "pygments_lexer": "ipython3",
   "version": "3.6.4"
  },
  "toc": {
   "colors": {
    "hover_highlight": "#DAA520",
    "navigate_num": "#000000",
    "navigate_text": "#333333",
    "running_highlight": "#FF0000",
    "selected_highlight": "#FFD700",
    "sidebar_border": "#EEEEEE",
    "wrapper_background": "#FFFFFF"
   },
   "moveMenuLeft": true,
   "nav_menu": {
    "height": "48px",
    "width": "252px"
   },
   "navigate_menu": true,
   "number_sections": true,
   "sideBar": true,
   "threshold": 4,
   "toc_cell": false,
   "toc_section_display": "block",
   "toc_window_display": false,
   "widenNotebook": false
  }
 },
 "nbformat": 4,
 "nbformat_minor": 2
}
